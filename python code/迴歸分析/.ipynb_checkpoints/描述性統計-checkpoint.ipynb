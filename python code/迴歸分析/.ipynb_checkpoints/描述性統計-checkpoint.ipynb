{
 "cells": [
  {
   "cell_type": "code",
   "execution_count": 1,
   "metadata": {},
   "outputs": [],
   "source": [
    "import pandas as pd\n",
    "import numpy as np\n",
    "df =pd.read_excel(\"/Users/chouhouren/Desktop/論文資料_新/python code/其他/df_距離合併描述後刪除.xlsx\",sheet_name='實際')\n",
    "a= df.describe()\n",
    "\n",
    "a = pd.DataFrame(a).T\n",
    "a.to_excel('實際距離描述.xlsx')"
   ]
  }
 ],
 "metadata": {
  "kernelspec": {
   "display_name": "Python 3",
   "language": "python",
   "name": "python3"
  },
  "language_info": {
   "codemirror_mode": {
    "name": "ipython",
    "version": 3
   },
   "file_extension": ".py",
   "mimetype": "text/x-python",
   "name": "python",
   "nbconvert_exporter": "python",
   "pygments_lexer": "ipython3",
   "version": "3.6.4"
  }
 },
 "nbformat": 4,
 "nbformat_minor": 2
}
