{
 "cells": [
  {
   "cell_type": "markdown",
   "metadata": {},
   "source": [
    "# Stepwise"
   ]
  },
  {
   "cell_type": "code",
   "execution_count": 1,
   "metadata": {},
   "outputs": [
    {
     "name": "stderr",
     "output_type": "stream",
     "text": [
      "/Users/chouhouren/anaconda3/lib/python3.6/site-packages/statsmodels/compat/pandas.py:56: FutureWarning: The pandas.core.datetools module is deprecated and will be removed in a future version. Please use the pandas.tseries module instead.\n",
      "  from pandas.core import datetools\n"
     ]
    }
   ],
   "source": [
    "import pandas as pd\n",
    "import numpy as np\n",
    "import statsmodels.api as sm\n",
    "import statsmodels.api as sma\n",
    "from statsmodels.regression.linear_model import OLS\n",
    "from scipy.stats import kurtosis, skew                                          #檢驗殘差常態性\n",
    "from statsmodels.stats.stattools import durbin_watson                           #檢驗殘差變異數獨立性\n",
    "from sklearn import preprocessing                                               #檢驗變異數同值性\n",
    "from statsmodels.stats.outliers_influence import variance_inflation_factor      #檢驗共線性\n",
    "import matplotlib.pyplot as plt\n",
    "%matplotlib inline"
   ]
  },
  {
   "cell_type": "code",
   "execution_count": 2,
   "metadata": {},
   "outputs": [],
   "source": [
    "df = pd.read_excel(\"/Users/chouhouren/Desktop/論文資料_新/建模型資料/df_直線模型.xlsx\")\n",
    "\n",
    "df = df.dropna()\n",
    "\n",
    "df = pd.DataFrame(df)"
   ]
  },
  {
   "cell_type": "code",
   "execution_count": 3,
   "metadata": {},
   "outputs": [],
   "source": [
    "feture =[]\n",
    "feture = df.drop(['新總價','編號'], axis=1)\n",
    "x = feture\n",
    "y = df.新總價"
   ]
  },
  {
   "cell_type": "code",
   "execution_count": 4,
   "metadata": {},
   "outputs": [
    {
     "name": "stdout",
     "output_type": "stream",
     "text": [
      "Add  屋齡                             with p-value 0.0\n",
      "Add  建物現況格局-廳                       with p-value 0.0\n",
      "Add  飛機場                            with p-value 0.0\n",
      "Add  建物現況格局-衛                       with p-value 0.0\n",
      "Add  新面積                            with p-value 0.0\n",
      "Drop 建物現況格局-衛                       with p-value 0.210832\n",
      "Add  污水處理廠                          with p-value 0.0\n",
      "Add  明星國中                           with p-value 3.46252e-199\n",
      "Add  總樓層數                           with p-value 6.3103e-174\n",
      "Add  醫院                             with p-value 1.16129e-127\n",
      "Add  新交易車位數                         with p-value 3.13581e-124\n",
      "Add  捷運出口                           with p-value 2.56455e-77\n",
      "Add  殯儀館                            with p-value 1.07522e-37\n",
      "Add  百貨公司                           with p-value 1.15674e-48\n",
      "Add  明星國小                           with p-value 2.50652e-62\n",
      "Drop 建物現況格局-廳                       with p-value 0.28533\n",
      "Add  大安區                            with p-value 1.17103e-27\n",
      "Add  大公園                            with p-value 6.72989e-27\n",
      "Add  體育館                            with p-value 8.19208e-26\n",
      "Add  垃圾焚化廠                          with p-value 2.6768e-15\n",
      "Add  106上                           with p-value 7.15402e-13\n",
      "Add  105下                           with p-value 3.11978e-14\n",
      "Add  中山區                            with p-value 1.8864e-11\n",
      "Add  移轉層次                           with p-value 9.70359e-08\n",
      "Add  106下                           with p-value 1.53783e-06\n",
      "Add  105上                           with p-value 7.77771e-07\n",
      "Add  建物現況格局-房                       with p-value 2.56426e-06\n",
      "Add  加油站                            with p-value 1.73772e-06\n",
      "Add  士林區                            with p-value 7.58783e-06\n",
      "Add  南港區                            with p-value 3.88245e-06\n",
      "Add  鄰里公園                           with p-value 5.94848e-06\n",
      "Add  信義區                            with p-value 0.000535026\n",
      "Add  104下                           with p-value 0.00220491\n",
      "Add  松山區                            with p-value 0.0047189\n",
      "Add  中正區                            with p-value 0.00190779\n",
      "Add  RB                             with p-value 0.020289\n",
      "Add  華廈(10層含以下有電梯)                  with p-value 0.022389\n",
      "Add  平面車位                           with p-value 0.0318435\n"
     ]
    },
    {
     "data": {
      "text/plain": [
       "34"
      ]
     },
     "execution_count": 4,
     "metadata": {},
     "output_type": "execute_result"
    }
   ],
   "source": [
    "def stepwise_selection(x, y, \n",
    "                       initial_list=[],\n",
    "                       vif_value=[],\n",
    "                       threshold_in=0.05, \n",
    "                       threshold_out = 0.1, \n",
    "                       vif_out=10,\n",
    "                       verbose=True):\n",
    "    \n",
    "    included = list(initial_list)\n",
    "    vif_too_big=list(vif_value)\n",
    "    while True:\n",
    "        changed=False\n",
    "        # forward step\n",
    "        excluded = list(set(x.columns)-set(included)-set(vif_too_big))\n",
    "        new_pval = pd.Series(index=excluded)\n",
    "        for new_column in excluded:\n",
    "            model = sm.OLS(y, sm.add_constant(pd.DataFrame(x[included+[new_column]]))).fit()\n",
    "            new_pval[new_column] = model.pvalues[new_column]\n",
    "        best_pval = new_pval.min()\n",
    "        if best_pval < threshold_in:\n",
    "            best_feature = new_pval.idxmin()\n",
    "            included.append(best_feature)\n",
    "            changed=True\n",
    "            if verbose:\n",
    "                print('Add  {:30} with p-value {:.6}'.format(best_feature, best_pval))\n",
    "\n",
    "        # backward step\n",
    "        model = sm.OLS(y, sm.add_constant(pd.DataFrame(x[included]))).fit()\n",
    "        # use all coefs except intercept\n",
    "        pvalues = model.pvalues.iloc[1:]\n",
    "        worst_pval = pvalues.max() # null if pvalues is empty\n",
    "        if worst_pval > threshold_out:\n",
    "            changed=True\n",
    "            worst_feature = pvalues.idxmax()\n",
    "            included.remove(worst_feature)\n",
    "            if verbose: \n",
    "                print('Drop {:30} with p-value {:.6}'.format(worst_feature, worst_pval))\n",
    "            \n",
    "        vif_constant = sm.add_constant(x[included])        \n",
    "        f_vif=[variance_inflation_factor(vif_constant.values, j) for j in range(vif_constant.shape[1])]\n",
    "        f_vif=pd.Series(f_vif,index=vif_constant.columns)\n",
    "        f_vif=f_vif.iloc[1:]\n",
    "        big_vif = f_vif.max()\n",
    "            \n",
    "            \n",
    "        if big_vif > vif_out:\n",
    "            changed=True\n",
    "            big_vif_feature = f_vif.idxmax()\n",
    "            included.remove(big_vif_feature)\n",
    "            vif_too_big.append(big_vif_feature)\n",
    "            #if verbose:\n",
    "                #print('Drop {:30} with p-value {:.6}'.format(worst_feature, worst_pval))\n",
    "        \n",
    "         \n",
    "        if not changed:\n",
    "            break\n",
    "    return included\n",
    "\n",
    "result = stepwise_selection(x, y)\n",
    "len(result)"
   ]
  },
  {
   "cell_type": "markdown",
   "metadata": {},
   "source": [
    "### OLS模型"
   ]
  },
  {
   "cell_type": "code",
   "execution_count": 5,
   "metadata": {},
   "outputs": [],
   "source": [
    "x_train = sma.add_constant(df[result]) ## let's add an intercept (beta_0) to our model\n",
    "\n",
    "lm2 = sm.OLS(y,x_train).fit()"
   ]
  },
  {
   "cell_type": "markdown",
   "metadata": {},
   "source": [
    "#### 常態性假設檢驗"
   ]
  },
  {
   "cell_type": "code",
   "execution_count": 6,
   "metadata": {},
   "outputs": [
    {
     "name": "stdout",
     "output_type": "stream",
     "text": [
      "skewness of normal distribution:        0.044651\n",
      "kurtosis of normal distribution:        1.2619\n"
     ]
    }
   ],
   "source": [
    "e=y-lm2.fittedvalues\n",
    "resid_skew = skew(e)\n",
    "resid_kurtosis = kurtosis(e)\n",
    "print('{:40}{:.5}'.format('skewness of normal distribution:',resid_skew ))\n",
    "print('{:40}{:.5}'.format('kurtosis of normal distribution:',resid_kurtosis ))"
   ]
  },
  {
   "cell_type": "markdown",
   "metadata": {},
   "source": [
    "#### 獨立性假設檢驗"
   ]
  },
  {
   "cell_type": "code",
   "execution_count": 7,
   "metadata": {},
   "outputs": [
    {
     "name": "stdout",
     "output_type": "stream",
     "text": [
      "Durbin-Watson:      1.9013\n"
     ]
    }
   ],
   "source": [
    "def dw(data):\n",
    "    ols_res = OLS(data, np.ones(len(data))).fit()\n",
    "    return durbin_watson(ols_res.resid)\n",
    "\n",
    "\n",
    "print('{:20}{:.5}'.format('Durbin-Watson:',dw(e)))"
   ]
  },
  {
   "cell_type": "markdown",
   "metadata": {},
   "source": [
    "#### 變異數同值性假設檢驗"
   ]
  },
  {
   "cell_type": "code",
   "execution_count": 8,
   "metadata": {},
   "outputs": [
    {
     "data": {
      "image/png": "[encoded data removed]",
      "text/plain": [
       "<matplotlib.figure.Figure at 0x1c0b7236d8>"
      ]
     },
     "metadata": {},
     "output_type": "display_data"
    }
   ],
   "source": [
    "y_pred_norm=preprocessing.scale(lm2.fittedvalues)\n",
    "\n",
    "e_norm =preprocessing.scale(e)\n",
    "\n",
    "\n",
    "plt.scatter(y_pred_norm, e_norm,color='k',marker='o')\n",
    "plt.xlabel(\"Standardized Predicted Value\")\n",
    "plt.ylabel(\"Standardized Residual\")\n",
    "plt.axhline(y=0,linewidth=3, color='r')\n",
    "plt.show()"
   ]
  },
  {
   "cell_type": "markdown",
   "metadata": {},
   "source": [
    "#### 無共線性檢驗"
   ]
  },
  {
   "cell_type": "code",
   "execution_count": 9,
   "metadata": {},
   "outputs": [
    {
     "name": "stdout",
     "output_type": "stream",
     "text": [
      "no collinarity\n"
     ]
    }
   ],
   "source": [
    "vif=[variance_inflation_factor(x_train.values, j) for j in range(x_train.shape[1])]\n",
    "vif=pd.DataFrame(vif,index=x_train.columns,columns=['VIF'])\n",
    "\n",
    "\n",
    "vif=vif.drop(['const'])\n",
    "if vif['VIF'].max() <10:\n",
    "    print('no collinarity')\n",
    "else:\n",
    "    print(vif['VIF'].argmax())"
   ]
  },
  {
   "cell_type": "markdown",
   "metadata": {},
   "source": [
    "#### Regression List"
   ]
  },
  {
   "cell_type": "code",
   "execution_count": 10,
   "metadata": {},
   "outputs": [],
   "source": [
    "drop_feature = list(set(df.columns)-set(df[result].columns))\n",
    "\n",
    "\n",
    "drop_feature = pd.DataFrame(drop_feature)\n",
    "\n",
    "drop_feature.to_excel('直線stepwise刪除的因子.xlsx')"
   ]
  },
  {
   "cell_type": "code",
   "execution_count": 57,
   "metadata": {},
   "outputs": [],
   "source": [
    "p_value = pd.DataFrame(lm2.pvalues,columns=['p_value'])\n",
    "\n",
    "coef = pd.DataFrame(lm2.params,columns=['coef'])\n",
    "\n",
    "vif=[variance_inflation_factor(x_train.values, j) for j in range(x_train.shape[1])]\n",
    "vif=pd.DataFrame(a,index=x_train.columns,columns=['VIF'])"
   ]
  },
  {
   "cell_type": "code",
   "execution_count": 58,
   "metadata": {},
   "outputs": [],
   "source": [
    "df_逐步回歸 = pd.merge(coef,p_value,left_index=True,right_index=True).merge(vif,left_index=True,right_index=True)"
   ]
  },
  {
   "cell_type": "markdown",
   "metadata": {},
   "source": [
    "# K-Fold Regression Model"
   ]
  },
  {
   "cell_type": "code",
   "execution_count": 59,
   "metadata": {},
   "outputs": [],
   "source": [
    "import pandas as pd\n",
    "import numpy as np\n",
    "from sklearn.linear_model import LinearRegression\n",
    "from sklearn.cross_validation import KFold\n",
    "from sklearn.utils import check_array\n",
    "from sklearn import metrics\n",
    "from sklearn.metrics import mean_absolute_error\n",
    "from sklearn.metrics import r2_score"
   ]
  },
  {
   "cell_type": "code",
   "execution_count": 61,
   "metadata": {},
   "outputs": [],
   "source": [
    "x = np.array(df[result])\n",
    "y = np.array(df['新總價'])\n",
    "x = np.array([np.concatenate((v,[1])) for v in x])"
   ]
  },
  {
   "cell_type": "code",
   "execution_count": 62,
   "metadata": {},
   "outputs": [],
   "source": [
    "linreg = LinearRegression(fit_intercept=False)"
   ]
  },
  {
   "cell_type": "code",
   "execution_count": 63,
   "metadata": {},
   "outputs": [],
   "source": [
    "kf = KFold(len(x), n_folds=10)\n",
    "xval_err = 0\n",
    "for train,test in kf:\n",
    "    linreg.fit(x[train],y[train])\n",
    "    p = linreg.predict(x[test])\n",
    "    e = p-y[test]"
   ]
  },
  {
   "cell_type": "code",
   "execution_count": 64,
   "metadata": {},
   "outputs": [],
   "source": [
    "y_test=np.exp(y[test])\n",
    "p = np.exp(p)"
   ]
  },
  {
   "cell_type": "markdown",
   "metadata": {},
   "source": [
    "#### MAPE"
   ]
  },
  {
   "cell_type": "code",
   "execution_count": 65,
   "metadata": {},
   "outputs": [],
   "source": [
    "def mean_absolute_percentage_error(y_true, y_pred): \n",
    "    y_true, y_pred = np.array(y_true), np.array(y_pred)\n",
    "    return np.mean(np.abs((y_true - y_pred) / y_true)) * 100\n",
    "MAPE=mean_absolute_percentage_error(y_test,p).round(2)"
   ]
  },
  {
   "cell_type": "markdown",
   "metadata": {},
   "source": [
    "#### MAE"
   ]
  },
  {
   "cell_type": "code",
   "execution_count": 66,
   "metadata": {},
   "outputs": [],
   "source": [
    "MAE=mean_absolute_error(y_test, p).round(2)"
   ]
  },
  {
   "cell_type": "markdown",
   "metadata": {},
   "source": [
    "#### RMSE"
   ]
  },
  {
   "cell_type": "code",
   "execution_count": 67,
   "metadata": {},
   "outputs": [],
   "source": [
    "RMSE=np.sqrt(metrics.mean_squared_error(y_test,p)).round(0)"
   ]
  },
  {
   "cell_type": "markdown",
   "metadata": {},
   "source": [
    "#### HIT RATE"
   ]
  },
  {
   "cell_type": "code",
   "execution_count": 68,
   "metadata": {},
   "outputs": [],
   "source": [
    "def Hit_Rate_error(y_test,predict_value,alpha):\n",
    "    \n",
    "    df_yp=[]\n",
    "    y_test=pd.DataFrame(y_test,columns=['y_test'])\n",
    "    predict_value=pd.DataFrame(predict_value,columns=['predict_value'])\n",
    "    df_yp = pd.concat([y_test,predict_value],axis=1)#y_test and predict_value\n",
    "    命中值 =[(df_yp['predict_value']<df_yp['y_test']+df_yp['y_test']*alpha)&(df_yp['predict_value']>df_yp['y_test']-df_yp['y_test']*alpha)]\n",
    "    choices = [1]\n",
    "    df_yp['命中值'] = np.select(命中值,choices,default=0)\n",
    "    HIT_rate = (df_yp['命中值'].sum()/len(y_test)*100).round(2)\n",
    "    return HIT_rate"
   ]
  },
  {
   "cell_type": "code",
   "execution_count": 69,
   "metadata": {},
   "outputs": [],
   "source": [
    "HIT_rate_10=Hit_Rate_error(y_test,p,0.1)"
   ]
  },
  {
   "cell_type": "code",
   "execution_count": 70,
   "metadata": {},
   "outputs": [],
   "source": [
    "HIT_rate_20=Hit_Rate_error(y_test,p,0.2)"
   ]
  },
  {
   "cell_type": "markdown",
   "metadata": {},
   "source": [
    "#### R_square"
   ]
  },
  {
   "cell_type": "code",
   "execution_count": 71,
   "metadata": {},
   "outputs": [],
   "source": [
    "from sklearn.metrics import r2_score\n",
    "R2=r2_score(y_test, p).round(2)"
   ]
  },
  {
   "cell_type": "markdown",
   "metadata": {},
   "source": [
    "#### summary"
   ]
  },
  {
   "cell_type": "code",
   "execution_count": 72,
   "metadata": {},
   "outputs": [
    {
     "name": "stdout",
     "output_type": "stream",
     "text": [
      "R2:                 0.84\n",
      "MAPE:               16.08\n",
      "MAE:                4895482.92\n",
      "RMSE:               12761441.0\n",
      "HIT_rate_10:        38.18\n",
      "HIT_rate_20:        69.97\n"
     ]
    }
   ],
   "source": [
    "print('{:20}{:.4}'.format('R2:', R2))\n",
    "print('{:20}{:.10}'.format('MAPE:', MAPE))\n",
    "print('{:20}{:.10}'.format('MAE:', MAE))\n",
    "print('{:20}{:.10}'.format('RMSE:', RMSE))\n",
    "print('{:20}{:.10}'.format('HIT_rate_10:', HIT_rate_10))\n",
    "print('{:20}{:.10}'.format('HIT_rate_20:', HIT_rate_20))"
   ]
  }
 ],
 "metadata": {
  "kernelspec": {
   "display_name": "Python 3",
   "language": "python",
   "name": "python3"
  },
  "language_info": {
   "codemirror_mode": {
    "name": "ipython",
    "version": 3
   },
   "file_extension": ".py",
   "mimetype": "text/x-python",
   "name": "python",
   "nbconvert_exporter": "python",
   "pygments_lexer": "ipython3",
   "version": "3.6.4"
  }
 },
 "nbformat": 4,
 "nbformat_minor": 2
}
