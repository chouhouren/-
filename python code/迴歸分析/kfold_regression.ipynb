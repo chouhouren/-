{
 "cells": [
  {
   "cell_type": "code",
   "execution_count": 37,
   "metadata": {},
   "outputs": [],
   "source": [
    "import pandas as pd\n",
    "import numpy as np\n",
    "from sklearn.linear_model import LinearRegression\n",
    "from sklearn.cross_validation import KFold\n",
    "from sklearn.utils import check_array\n",
    "from sklearn import metrics\n",
    "from sklearn.metrics import mean_absolute_error\n",
    "from scipy.stats import kurtosis, skew"
   ]
  },
  {
   "cell_type": "code",
   "execution_count": 38,
   "metadata": {},
   "outputs": [
    {
     "data": {
      "text/html": [
       "<div>\n",
       "<style scoped>\n",
       "    .dataframe tbody tr th:only-of-type {\n",
       "        vertical-align: middle;\n",
       "    }\n",
       "\n",
       "    .dataframe tbody tr th {\n",
       "        vertical-align: top;\n",
       "    }\n",
       "\n",
       "    .dataframe thead th {\n",
       "        text-align: right;\n",
       "    }\n",
       "</style>\n",
       "<table border=\"1\" class=\"dataframe\">\n",
       "  <thead>\n",
       "    <tr style=\"text-align: right;\">\n",
       "      <th></th>\n",
       "      <th>結果</th>\n",
       "      <th>隊賠率</th>\n",
       "      <th>隊賠率.1</th>\n",
       "      <th>局賠率</th>\n",
       "      <th>隊伍</th>\n",
       "      <th>隊伍.1</th>\n",
       "      <th>0</th>\n",
       "      <th>賠率低贏</th>\n",
       "    </tr>\n",
       "  </thead>\n",
       "  <tbody>\n",
       "    <tr>\n",
       "      <th>0</th>\n",
       "      <td>2</td>\n",
       "      <td>3.40</td>\n",
       "      <td>1.80</td>\n",
       "      <td>3.25</td>\n",
       "      <td>西班牙</td>\n",
       "      <td>葡萄牙</td>\n",
       "      <td>1.0</td>\n",
       "      <td>賠率高贏</td>\n",
       "    </tr>\n",
       "    <tr>\n",
       "      <th>1</th>\n",
       "      <td>1</td>\n",
       "      <td>10.00</td>\n",
       "      <td>1.08</td>\n",
       "      <td>7.25</td>\n",
       "      <td>澳洲</td>\n",
       "      <td>法國</td>\n",
       "      <td>2.0</td>\n",
       "      <td>和局</td>\n",
       "    </tr>\n",
       "    <tr>\n",
       "      <th>2</th>\n",
       "      <td>2</td>\n",
       "      <td>10.00</td>\n",
       "      <td>1.15</td>\n",
       "      <td>5.00</td>\n",
       "      <td>冰島</td>\n",
       "      <td>阿根廷</td>\n",
       "      <td>NaN</td>\n",
       "      <td>NaN</td>\n",
       "    </tr>\n",
       "    <tr>\n",
       "      <th>3</th>\n",
       "      <td>0</td>\n",
       "      <td>1.90</td>\n",
       "      <td>3.30</td>\n",
       "      <td>3.00</td>\n",
       "      <td>丹麥</td>\n",
       "      <td>祕魯</td>\n",
       "      <td>NaN</td>\n",
       "      <td>NaN</td>\n",
       "    </tr>\n",
       "    <tr>\n",
       "      <th>4</th>\n",
       "      <td>0</td>\n",
       "      <td>5.00</td>\n",
       "      <td>1.45</td>\n",
       "      <td>3.60</td>\n",
       "      <td>奈及利亞</td>\n",
       "      <td>克羅埃西亞</td>\n",
       "      <td>NaN</td>\n",
       "      <td>NaN</td>\n",
       "    </tr>\n",
       "    <tr>\n",
       "      <th>5</th>\n",
       "      <td>0</td>\n",
       "      <td>1.65</td>\n",
       "      <td>3.75</td>\n",
       "      <td>3.40</td>\n",
       "      <td>塞爾維亞</td>\n",
       "      <td>哥斯大黎加</td>\n",
       "      <td>NaN</td>\n",
       "      <td>NaN</td>\n",
       "    </tr>\n",
       "    <tr>\n",
       "      <th>6</th>\n",
       "      <td>1</td>\n",
       "      <td>8.00</td>\n",
       "      <td>1.20</td>\n",
       "      <td>4.75</td>\n",
       "      <td>墨西哥</td>\n",
       "      <td>德國</td>\n",
       "      <td>NaN</td>\n",
       "      <td>NaN</td>\n",
       "    </tr>\n",
       "    <tr>\n",
       "      <th>7</th>\n",
       "      <td>2</td>\n",
       "      <td>6.75</td>\n",
       "      <td>1.28</td>\n",
       "      <td>4.25</td>\n",
       "      <td>瑞士</td>\n",
       "      <td>巴西</td>\n",
       "      <td>NaN</td>\n",
       "      <td>NaN</td>\n",
       "    </tr>\n",
       "    <tr>\n",
       "      <th>8</th>\n",
       "      <td>0</td>\n",
       "      <td>4.00</td>\n",
       "      <td>1.70</td>\n",
       "      <td>3.10</td>\n",
       "      <td>南韓</td>\n",
       "      <td>瑞典</td>\n",
       "      <td>NaN</td>\n",
       "      <td>NaN</td>\n",
       "    </tr>\n",
       "    <tr>\n",
       "      <th>9</th>\n",
       "      <td>0</td>\n",
       "      <td>12.50</td>\n",
       "      <td>1.10</td>\n",
       "      <td>6.00</td>\n",
       "      <td>巴拿馬</td>\n",
       "      <td>比利時</td>\n",
       "      <td>NaN</td>\n",
       "      <td>NaN</td>\n",
       "    </tr>\n",
       "    <tr>\n",
       "      <th>10</th>\n",
       "      <td>0</td>\n",
       "      <td>1.35</td>\n",
       "      <td>6.00</td>\n",
       "      <td>4.00</td>\n",
       "      <td>英格蘭</td>\n",
       "      <td>突尼西亞</td>\n",
       "      <td>NaN</td>\n",
       "      <td>NaN</td>\n",
       "    </tr>\n",
       "    <tr>\n",
       "      <th>11</th>\n",
       "      <td>1</td>\n",
       "      <td>5.50</td>\n",
       "      <td>1.45</td>\n",
       "      <td>3.40</td>\n",
       "      <td>日本</td>\n",
       "      <td>哥倫比亞</td>\n",
       "      <td>NaN</td>\n",
       "      <td>NaN</td>\n",
       "    </tr>\n",
       "    <tr>\n",
       "      <th>12</th>\n",
       "      <td>1</td>\n",
       "      <td>3.40</td>\n",
       "      <td>1.80</td>\n",
       "      <td>3.20</td>\n",
       "      <td>塞內加爾</td>\n",
       "      <td>波蘭</td>\n",
       "      <td>NaN</td>\n",
       "      <td>NaN</td>\n",
       "    </tr>\n",
       "    <tr>\n",
       "      <th>13</th>\n",
       "      <td>0</td>\n",
       "      <td>3.40</td>\n",
       "      <td>1.75</td>\n",
       "      <td>3.30</td>\n",
       "      <td>埃及</td>\n",
       "      <td>俄羅斯</td>\n",
       "      <td>NaN</td>\n",
       "      <td>NaN</td>\n",
       "    </tr>\n",
       "    <tr>\n",
       "      <th>14</th>\n",
       "      <td>0</td>\n",
       "      <td>6.25</td>\n",
       "      <td>1.35</td>\n",
       "      <td>3.75</td>\n",
       "      <td>摩洛哥</td>\n",
       "      <td>葡萄牙</td>\n",
       "      <td>NaN</td>\n",
       "      <td>NaN</td>\n",
       "    </tr>\n",
       "    <tr>\n",
       "      <th>15</th>\n",
       "      <td>0</td>\n",
       "      <td>8.00</td>\n",
       "      <td>1.12</td>\n",
       "      <td>6.75</td>\n",
       "      <td>沙烏地阿拉伯</td>\n",
       "      <td>烏拉圭</td>\n",
       "      <td>NaN</td>\n",
       "      <td>NaN</td>\n",
       "    </tr>\n",
       "    <tr>\n",
       "      <th>16</th>\n",
       "      <td>0</td>\n",
       "      <td>1.10</td>\n",
       "      <td>9.50</td>\n",
       "      <td>6.50</td>\n",
       "      <td>西班牙</td>\n",
       "      <td>伊朗</td>\n",
       "      <td>NaN</td>\n",
       "      <td>NaN</td>\n",
       "    </tr>\n",
       "    <tr>\n",
       "      <th>17</th>\n",
       "      <td>2</td>\n",
       "      <td>3.75</td>\n",
       "      <td>1.70</td>\n",
       "      <td>3.25</td>\n",
       "      <td>澳洲</td>\n",
       "      <td>丹麥</td>\n",
       "      <td>NaN</td>\n",
       "      <td>NaN</td>\n",
       "    </tr>\n",
       "    <tr>\n",
       "      <th>18</th>\n",
       "      <td>0</td>\n",
       "      <td>6.75</td>\n",
       "      <td>1.30</td>\n",
       "      <td>4.00</td>\n",
       "      <td>祕魯</td>\n",
       "      <td>法國</td>\n",
       "      <td>NaN</td>\n",
       "      <td>NaN</td>\n",
       "    </tr>\n",
       "    <tr>\n",
       "      <th>19</th>\n",
       "      <td>1</td>\n",
       "      <td>4.00</td>\n",
       "      <td>1.65</td>\n",
       "      <td>3.25</td>\n",
       "      <td>克羅埃西亞</td>\n",
       "      <td>阿根廷</td>\n",
       "      <td>NaN</td>\n",
       "      <td>NaN</td>\n",
       "    </tr>\n",
       "  </tbody>\n",
       "</table>\n",
       "</div>"
      ],
      "text/plain": [
       "    結果    隊賠率  隊賠率.1   局賠率      隊伍   隊伍.1    0  賠率低贏\n",
       "0    2   3.40   1.80  3.25     西班牙    葡萄牙  1.0  賠率高贏\n",
       "1    1  10.00   1.08  7.25      澳洲     法國  2.0    和局\n",
       "2    2  10.00   1.15  5.00      冰島    阿根廷  NaN   NaN\n",
       "3    0   1.90   3.30  3.00      丹麥     祕魯  NaN   NaN\n",
       "4    0   5.00   1.45  3.60    奈及利亞  克羅埃西亞  NaN   NaN\n",
       "5    0   1.65   3.75  3.40    塞爾維亞  哥斯大黎加  NaN   NaN\n",
       "6    1   8.00   1.20  4.75     墨西哥     德國  NaN   NaN\n",
       "7    2   6.75   1.28  4.25      瑞士     巴西  NaN   NaN\n",
       "8    0   4.00   1.70  3.10      南韓     瑞典  NaN   NaN\n",
       "9    0  12.50   1.10  6.00     巴拿馬    比利時  NaN   NaN\n",
       "10   0   1.35   6.00  4.00     英格蘭   突尼西亞  NaN   NaN\n",
       "11   1   5.50   1.45  3.40      日本   哥倫比亞  NaN   NaN\n",
       "12   1   3.40   1.80  3.20    塞內加爾     波蘭  NaN   NaN\n",
       "13   0   3.40   1.75  3.30      埃及    俄羅斯  NaN   NaN\n",
       "14   0   6.25   1.35  3.75     摩洛哥    葡萄牙  NaN   NaN\n",
       "15   0   8.00   1.12  6.75  沙烏地阿拉伯    烏拉圭  NaN   NaN\n",
       "16   0   1.10   9.50  6.50     西班牙     伊朗  NaN   NaN\n",
       "17   2   3.75   1.70  3.25      澳洲     丹麥  NaN   NaN\n",
       "18   0   6.75   1.30  4.00      祕魯     法國  NaN   NaN\n",
       "19   1   4.00   1.65  3.25   克羅埃西亞    阿根廷  NaN   NaN"
      ]
     },
     "execution_count": 38,
     "metadata": {},
     "output_type": "execute_result"
    }
   ],
   "source": [
    "df = pd.read_excel(\"/Users/chouhouren/Desktop/世界杯資料.xlsx\")\n",
    "#df = df.dropna()\n",
    "df"
   ]
  },
  {
   "cell_type": "code",
   "execution_count": 39,
   "metadata": {},
   "outputs": [],
   "source": [
    "x = np.array(df.iloc[:,1:4])\n",
    "y = np.array(df.iloc[:,0])\n",
    "x = np.array([np.concatenate((v,[1])) for v in x])"
   ]
  },
  {
   "cell_type": "code",
   "execution_count": 40,
   "metadata": {},
   "outputs": [],
   "source": [
    "linreg = LinearRegression(fit_intercept=False)"
   ]
  },
  {
   "cell_type": "code",
   "execution_count": 41,
   "metadata": {},
   "outputs": [],
   "source": [
    "kf = KFold(len(x), n_folds=10)\n",
    "xval_err = 0\n",
    "for train,test in kf:\n",
    "    linreg.fit(x[train],y[train])\n",
    "    p = linreg.predict(x[test])\n",
    "    e = p-y[test]"
   ]
  },
  {
   "cell_type": "code",
   "execution_count": 42,
   "metadata": {},
   "outputs": [
    {
     "data": {
      "text/plain": [
       "array([ 1.        ,  2.71828183])"
      ]
     },
     "execution_count": 42,
     "metadata": {},
     "output_type": "execute_result"
    }
   ],
   "source": [
    "#y_test=pd.DataFrame(y[test])\n",
    "#y_test=np.exp(y_test)\n",
    "#np.exp(y[test])\n",
    "#y_test=pd.DataFrame(y[test])\n",
    "y_test=np.exp(y[test])\n",
    "y_test"
   ]
  },
  {
   "cell_type": "code",
   "execution_count": 43,
   "metadata": {},
   "outputs": [
    {
     "data": {
      "text/plain": [
       "array([ 2.35189114,  2.1522538 ])"
      ]
     },
     "execution_count": 43,
     "metadata": {},
     "output_type": "execute_result"
    }
   ],
   "source": [
    "#p = pd.DataFrame(p)\n",
    "p = np.exp(p)\n",
    "p"
   ]
  },
  {
   "cell_type": "code",
   "execution_count": 44,
   "metadata": {},
   "outputs": [],
   "source": [
    "def mean_absolute_percentage_error(y_true, y_pred): \n",
    "    y_true, y_pred = np.array(y_true), np.array(y_pred)\n",
    "    return np.mean(np.abs((y_true - y_pred) / y_true)) * 100"
   ]
  },
  {
   "cell_type": "code",
   "execution_count": 45,
   "metadata": {},
   "outputs": [
    {
     "data": {
      "text/plain": [
       "78.010000000000005"
      ]
     },
     "execution_count": 45,
     "metadata": {},
     "output_type": "execute_result"
    }
   ],
   "source": [
    "MAPE=mean_absolute_percentage_error(y_test,p).round(2)\n",
    "MAPE"
   ]
  },
  {
   "cell_type": "code",
   "execution_count": 46,
   "metadata": {},
   "outputs": [
    {
     "data": {
      "text/plain": [
       "1.0"
      ]
     },
     "execution_count": 46,
     "metadata": {},
     "output_type": "execute_result"
    }
   ],
   "source": [
    "RMSE=np.sqrt(metrics.mean_squared_error(y_test,p)).round(0)\n",
    "RMSE"
   ]
  },
  {
   "cell_type": "code",
   "execution_count": 47,
   "metadata": {},
   "outputs": [
    {
     "data": {
      "text/plain": [
       "0.95999999999999996"
      ]
     },
     "execution_count": 47,
     "metadata": {},
     "output_type": "execute_result"
    }
   ],
   "source": [
    "MAE=mean_absolute_error(y_test, p).round(2)\n",
    "MAE"
   ]
  },
  {
   "cell_type": "code",
   "execution_count": 48,
   "metadata": {},
   "outputs": [],
   "source": [
    "def Hit_Rate_error(y_test,predict_value,alpha):\n",
    "    \n",
    "    df_yp=[]\n",
    "    y_test=pd.DataFrame(y_test,columns=['y_test'])\n",
    "    predict_value=pd.DataFrame(predict_value,columns=['predict_value'])\n",
    "    df_yp = pd.concat([y_test,predict_value],axis=1)#y_test and predict_value\n",
    "    命中值 =[(df_yp['predict_value']<df_yp['y_test']+df_yp['y_test']*alpha)&(df_yp['predict_value']>df_yp['y_test']-df_yp['y_test']*alpha)]\n",
    "    choices = [1]\n",
    "    df_yp['命中值'] = np.select(命中值,choices,default=0)\n",
    "    HIT_rate = (df_yp['命中值'].sum()/len(y_test)*100).round(2)\n",
    "    return HIT_rate\n",
    "\n"
   ]
  },
  {
   "cell_type": "code",
   "execution_count": 49,
   "metadata": {},
   "outputs": [
    {
     "data": {
      "text/plain": [
       "0.0"
      ]
     },
     "execution_count": 49,
     "metadata": {},
     "output_type": "execute_result"
    }
   ],
   "source": [
    "Hit_Rate_error(y_test,p,0.1)"
   ]
  },
  {
   "cell_type": "code",
   "execution_count": 50,
   "metadata": {},
   "outputs": [
    {
     "data": {
      "text/plain": [
       "0.0"
      ]
     },
     "execution_count": 50,
     "metadata": {},
     "output_type": "execute_result"
    }
   ],
   "source": [
    "Hit_Rate_error(y_test,p,0.2)"
   ]
  },
  {
   "cell_type": "code",
   "execution_count": 51,
   "metadata": {},
   "outputs": [
    {
     "data": {
      "text/plain": [
       "-0.46000000000000002"
      ]
     },
     "execution_count": 51,
     "metadata": {},
     "output_type": "execute_result"
    }
   ],
   "source": [
    "from sklearn.metrics import r2_score\n",
    "R2=r2_score(y_test, p).round(2)\n",
    "R2"
   ]
  },
  {
   "cell_type": "code",
   "execution_count": 52,
   "metadata": {},
   "outputs": [
    {
     "name": "stdout",
     "output_type": "stream",
     "text": [
      "R2:-0.46\n",
      "MAPE:78.01\n",
      "MAE:0.96\n",
      "RMSE:1.0\n"
     ]
    },
    {
     "ename": "NameError",
     "evalue": "name 'HIT_rate_20' is not defined",
     "output_type": "error",
     "traceback": [
      "\u001b[0;31m---------------------------------------------------------------------------\u001b[0m",
      "\u001b[0;31mNameError\u001b[0m                                 Traceback (most recent call last)",
      "\u001b[0;32m<ipython-input-52-1d142084de74>\u001b[0m in \u001b[0;36m<module>\u001b[0;34m()\u001b[0m\n\u001b[1;32m      4\u001b[0m \u001b[0mprint\u001b[0m\u001b[0;34m(\u001b[0m\u001b[0;34m'RMSE:'\u001b[0m\u001b[0;34m+\u001b[0m\u001b[0mstr\u001b[0m\u001b[0;34m(\u001b[0m\u001b[0mRMSE\u001b[0m\u001b[0;34m)\u001b[0m\u001b[0;34m)\u001b[0m\u001b[0;34m\u001b[0m\u001b[0m\n\u001b[1;32m      5\u001b[0m \u001b[0;31m#print('HIT_rate_10:'+str(HIT_rate_10))\u001b[0m\u001b[0;34m\u001b[0m\u001b[0;34m\u001b[0m\u001b[0m\n\u001b[0;32m----> 6\u001b[0;31m \u001b[0mprint\u001b[0m\u001b[0;34m(\u001b[0m\u001b[0;34m'HIT_rate_20:'\u001b[0m\u001b[0;34m+\u001b[0m\u001b[0mstr\u001b[0m\u001b[0;34m(\u001b[0m\u001b[0mHIT_rate_20\u001b[0m\u001b[0;34m)\u001b[0m\u001b[0;34m)\u001b[0m\u001b[0;34m\u001b[0m\u001b[0m\n\u001b[0m\u001b[1;32m      7\u001b[0m \u001b[0;34m\u001b[0m\u001b[0m\n\u001b[1;32m      8\u001b[0m \u001b[0;31m#print('{:20}{:.10}'.format('HIT_rate_10:', HIT_rate_10))\u001b[0m\u001b[0;34m\u001b[0m\u001b[0;34m\u001b[0m\u001b[0m\n",
      "\u001b[0;31mNameError\u001b[0m: name 'HIT_rate_20' is not defined"
     ]
    }
   ],
   "source": [
    "print('R2:'+str(R2))\n",
    "print('MAPE:'+str(MAPE))\n",
    "print('MAE:'+str(MAE))\n",
    "print('RMSE:'+str(RMSE))\n",
    "#print('HIT_rate_10:'+str(HIT_rate_10))\n",
    "print('HIT_rate_20:'+str(HIT_rate_20))\n",
    "\n",
    "#print('{:20}{:.10}'.format('HIT_rate_10:', HIT_rate_10))"
   ]
  }
 ],
 "metadata": {
  "kernelspec": {
   "display_name": "Python 3",
   "language": "python",
   "name": "python3"
  },
  "language_info": {
   "codemirror_mode": {
    "name": "ipython",
    "version": 3
   },
   "file_extension": ".py",
   "mimetype": "text/x-python",
   "name": "python",
   "nbconvert_exporter": "python",
   "pygments_lexer": "ipython3",
   "version": "3.6.4"
  }
 },
 "nbformat": 4,
 "nbformat_minor": 2
}
