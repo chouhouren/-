{
 "cells": [
  {
   "cell_type": "markdown",
   "metadata": {},
   "source": [
    "# Enter"
   ]
  },
  {
   "cell_type": "code",
   "execution_count": 28,
   "metadata": {},
   "outputs": [],
   "source": [
    "import pandas as pd\n",
    "import numpy as np\n",
    "import statsmodels.api as sm\n",
    "import statsmodels.api as sma\n",
    "from statsmodels.regression.linear_model import OLS\n",
    "from scipy.stats import kurtosis, skew                                          #檢驗殘差常態性\n",
    "from statsmodels.stats.stattools import durbin_watson                           #檢驗殘差變異數獨立性\n",
    "from sklearn import preprocessing                                               #檢驗變異數同值性\n",
    "from statsmodels.stats.outliers_influence import variance_inflation_factor      #檢驗共線性\n",
    "import matplotlib.pyplot as plt\n",
    "%matplotlib inline"
   ]
  },
  {
   "cell_type": "code",
   "execution_count": 29,
   "metadata": {},
   "outputs": [
    {
     "data": {
      "text/plain": [
       "Index(['新總價', '新面積', '屋齡', '移轉層次', '總樓層數', '建物現況格局-房', '建物現況格局-廳', '建物現況格局-衛',\n",
       "       '102上', '102下', '103上', '103下', '104上', '104下', '105上', '105下', '106上',\n",
       "       '106下', '公寓(5樓含以下無電梯)', '華廈(10層含以下有電梯)', '住宅大樓(11層含以上有電梯)', 'RB', 'RC',\n",
       "       'SRC/SC', '新交易車位數', '平面車位', '機械車位', '其他車位', '士林區', '大同區', '大安區', '中山區',\n",
       "       '中正區', '內湖區', '文山區', '北投區', '松山區', '南港區', '萬華區', '信義區', '大公園最近實際距離',\n",
       "       '捷運站出口最近實際距離', '明星國中近實際距離', '明星國小最近實際距離', '百貨公司最近實際距離', '鄰里公園最近實際距離',\n",
       "       '體育館最近實際距離', '加油站', '電塔', '污水處理廠', '垃圾焚化廠', '飛機場', '變電所', '殯儀館', '醫院'],\n",
       "      dtype='object')"
      ]
     },
     "execution_count": 29,
     "metadata": {},
     "output_type": "execute_result"
    }
   ],
   "source": [
    "df = pd.read_excel(\"/Users/chouhouren/Desktop/論文資料_新/建模型資料/df_實際模型.xlsx\")\n",
    "\n",
    "df = df.dropna()\n",
    "\n",
    "df = df.drop(['編號'], axis=1)\n",
    "\n",
    "df = pd.DataFrame(df)\n",
    "\n",
    "df.columns"
   ]
  },
  {
   "cell_type": "code",
   "execution_count": 30,
   "metadata": {},
   "outputs": [],
   "source": [
    "feture =[]\n",
    "feture = df.drop(['新總價','103上','住宅大樓(11層含以上有電梯)','內湖區'], axis=1)#去掉多餘虛擬變數\n",
    "x = feture\n",
    "y = df.新總價\n"
   ]
  },
  {
   "cell_type": "code",
   "execution_count": 31,
   "metadata": {},
   "outputs": [
    {
     "data": {
      "text/plain": [
       "30"
      ]
     },
     "execution_count": 31,
     "metadata": {},
     "output_type": "execute_result"
    }
   ],
   "source": [
    "def stepwise_selection(x, y, \n",
    "                       initial_list=[],\n",
    "                       vif_value=[],\n",
    "                       threshold_in=0.05, \n",
    "                       threshold_out = 0.1, \n",
    "                       vif_out=10,\n",
    "                       verbose=True):\n",
    "    \n",
    "    included = list(x.columns)\n",
    "    vif_too_big=list(vif_value)\n",
    "    while True:\n",
    "        changed=False\n",
    "        \n",
    "        excluded = list(set(x.columns)-set(included)-set(vif_too_big))\n",
    "        new_pval = pd.Series(index=excluded)\n",
    "        for new_column in excluded:\n",
    "            model = sm.OLS(y, sm.add_constant(pd.DataFrame(x[included+[new_column]]))).fit()\n",
    "            new_pval[new_column] = model.pvalues[new_column]\n",
    "        \n",
    "\n",
    "        # backward step\n",
    "        model = sm.OLS(y, sm.add_constant(pd.DataFrame(x[included]))).fit()\n",
    "        # use all coefs except intercept\n",
    "        pvalues = model.pvalues.iloc[1:]\n",
    "        if pvalues.max()>0.05:\n",
    "            changed=True\n",
    "            worst_feature = pvalues[pvalues > 0.05].index\n",
    "            for bad_feature in worst_feature:\n",
    "                included.remove(bad_feature)\n",
    "                \n",
    "\n",
    "        \n",
    "        vif_constant = sm.add_constant(x[included])        \n",
    "        f_vif=[variance_inflation_factor(vif_constant.values, j) for j in range(vif_constant.shape[1])]\n",
    "        f_vif=pd.Series(f_vif,index=vif_constant.columns)\n",
    "        f_vif=f_vif.iloc[1:]\n",
    "        big_vif = f_vif.max()\n",
    "            \n",
    "            \n",
    "        if big_vif > vif_out:\n",
    "            changed=True\n",
    "            big_vif_feature = f_vif.idxmax()\n",
    "            included.remove(big_vif_feature)\n",
    "            vif_too_big.append(big_vif_feature)\n",
    "            #if verbose:\n",
    "                #print('Drop {:30} with p-value {:.6}'.format(worst_feature, worst_pval))\n",
    "        \n",
    "         \n",
    "        if not changed:\n",
    "            break\n",
    "    return included\n",
    "\n",
    "result = stepwise_selection(x, y)\n",
    "len(result)"
   ]
  },
  {
   "cell_type": "markdown",
   "metadata": {},
   "source": [
    "drop_feature = list(set(df.columns)-set(df[result].columns))\n",
    "\n",
    "\n",
    "drop_feature = pd.DataFrame(drop_feature)\n",
    "\n",
    "drop_feature.to_excel('實際enter刪除的因子.xlsx')"
   ]
  },
  {
   "cell_type": "markdown",
   "metadata": {},
   "source": [
    "# 全部輸入OLS模型"
   ]
  },
  {
   "cell_type": "code",
   "execution_count": 32,
   "metadata": {},
   "outputs": [],
   "source": [
    "x_train = sma.add_constant(df[result]) ## let's add an intercept (beta_0) to our model\n",
    "\n",
    "Enter_model = sm.OLS(y,x_train).fit()\n",
    "\n"
   ]
  },
  {
   "cell_type": "markdown",
   "metadata": {},
   "source": [
    "#### 輸出係數、P值、VIF"
   ]
  },
  {
   "cell_type": "markdown",
   "metadata": {},
   "source": [
    "#### 常態性假設檢驗"
   ]
  },
  {
   "cell_type": "code",
   "execution_count": 33,
   "metadata": {},
   "outputs": [
    {
     "name": "stdout",
     "output_type": "stream",
     "text": [
      "skewness of normal distribution:        0.095154\n",
      "kurtosis of normal distribution:        1.254\n"
     ]
    }
   ],
   "source": [
    "e=y-Enter_model.fittedvalues\n",
    "resid_skew = skew(e)\n",
    "resid_kurtosis = kurtosis(e)\n",
    "print('{:40}{:.5}'.format('skewness of normal distribution:',resid_skew ))\n",
    "print('{:40}{:.5}'.format('kurtosis of normal distribution:',resid_kurtosis ))"
   ]
  },
  {
   "cell_type": "markdown",
   "metadata": {},
   "source": [
    "#### 獨立性假設檢驗"
   ]
  },
  {
   "cell_type": "code",
   "execution_count": 34,
   "metadata": {},
   "outputs": [
    {
     "name": "stdout",
     "output_type": "stream",
     "text": [
      "Durbin-Watson:      1.9083\n"
     ]
    }
   ],
   "source": [
    "def dw(data):\n",
    "    ols_res = OLS(data, np.ones(len(data))).fit()\n",
    "    return durbin_watson(ols_res.resid)\n",
    "\n",
    "\n",
    "print('{:20}{:.5}'.format('Durbin-Watson:',dw(e)))"
   ]
  },
  {
   "cell_type": "markdown",
   "metadata": {},
   "source": [
    "#### 變異數同值性假設檢驗"
   ]
  },
  {
   "cell_type": "code",
   "execution_count": 35,
   "metadata": {},
   "outputs": [
    {
     "data": {
      "image/png": "[encoded data removed]",
      "text/plain": [
       "<matplotlib.figure.Figure at 0x1c14e62588>"
      ]
     },
     "metadata": {},
     "output_type": "display_data"
    }
   ],
   "source": [
    "y_pred_norm=preprocessing.scale(Enter_model.fittedvalues)\n",
    "\n",
    "e_norm =preprocessing.scale(e)\n",
    "\n",
    "\n",
    "plt.scatter(y_pred_norm, e_norm,color='k',marker='o')\n",
    "plt.xlabel(\"Standardized Predicted Value\")\n",
    "plt.ylabel(\"Standardized Residual\")\n",
    "plt.axhline(y=0,linewidth=3, color='r')\n",
    "plt.show()"
   ]
  },
  {
   "cell_type": "markdown",
   "metadata": {},
   "source": [
    "#### 無共線性檢驗"
   ]
  },
  {
   "cell_type": "code",
   "execution_count": 36,
   "metadata": {},
   "outputs": [
    {
     "name": "stdout",
     "output_type": "stream",
     "text": [
      "no collinarity\n"
     ]
    },
    {
     "data": {
      "text/html": [
       "<div>\n",
       "<style scoped>\n",
       "    .dataframe tbody tr th:only-of-type {\n",
       "        vertical-align: middle;\n",
       "    }\n",
       "\n",
       "    .dataframe tbody tr th {\n",
       "        vertical-align: top;\n",
       "    }\n",
       "\n",
       "    .dataframe thead th {\n",
       "        text-align: right;\n",
       "    }\n",
       "</style>\n",
       "<table border=\"1\" class=\"dataframe\">\n",
       "  <thead>\n",
       "    <tr style=\"text-align: right;\">\n",
       "      <th></th>\n",
       "      <th>VIF</th>\n",
       "    </tr>\n",
       "  </thead>\n",
       "  <tbody>\n",
       "    <tr>\n",
       "      <th>新面積</th>\n",
       "      <td>1.938409</td>\n",
       "    </tr>\n",
       "    <tr>\n",
       "      <th>屋齡</th>\n",
       "      <td>2.180125</td>\n",
       "    </tr>\n",
       "    <tr>\n",
       "      <th>移轉層次</th>\n",
       "      <td>1.852538</td>\n",
       "    </tr>\n",
       "    <tr>\n",
       "      <th>總樓層數</th>\n",
       "      <td>2.629884</td>\n",
       "    </tr>\n",
       "    <tr>\n",
       "      <th>建物現況格局-房</th>\n",
       "      <td>1.596027</td>\n",
       "    </tr>\n",
       "    <tr>\n",
       "      <th>104下</th>\n",
       "      <td>1.105903</td>\n",
       "    </tr>\n",
       "    <tr>\n",
       "      <th>105上</th>\n",
       "      <td>1.096300</td>\n",
       "    </tr>\n",
       "    <tr>\n",
       "      <th>105下</th>\n",
       "      <td>1.095270</td>\n",
       "    </tr>\n",
       "    <tr>\n",
       "      <th>106上</th>\n",
       "      <td>1.098324</td>\n",
       "    </tr>\n",
       "    <tr>\n",
       "      <th>106下</th>\n",
       "      <td>1.036538</td>\n",
       "    </tr>\n",
       "    <tr>\n",
       "      <th>華廈(10層含以下有電梯)</th>\n",
       "      <td>1.022481</td>\n",
       "    </tr>\n",
       "    <tr>\n",
       "      <th>新交易車位數</th>\n",
       "      <td>1.475639</td>\n",
       "    </tr>\n",
       "    <tr>\n",
       "      <th>士林區</th>\n",
       "      <td>1.118642</td>\n",
       "    </tr>\n",
       "    <tr>\n",
       "      <th>大安區</th>\n",
       "      <td>1.098900</td>\n",
       "    </tr>\n",
       "    <tr>\n",
       "      <th>中山區</th>\n",
       "      <td>1.169619</td>\n",
       "    </tr>\n",
       "    <tr>\n",
       "      <th>南港區</th>\n",
       "      <td>1.060047</td>\n",
       "    </tr>\n",
       "    <tr>\n",
       "      <th>萬華區</th>\n",
       "      <td>1.096830</td>\n",
       "    </tr>\n",
       "    <tr>\n",
       "      <th>信義區</th>\n",
       "      <td>1.073433</td>\n",
       "    </tr>\n",
       "    <tr>\n",
       "      <th>大公園最近實際距離</th>\n",
       "      <td>2.582323</td>\n",
       "    </tr>\n",
       "    <tr>\n",
       "      <th>捷運站出口最近實際距離</th>\n",
       "      <td>1.832431</td>\n",
       "    </tr>\n",
       "    <tr>\n",
       "      <th>明星國中近實際距離</th>\n",
       "      <td>2.519744</td>\n",
       "    </tr>\n",
       "    <tr>\n",
       "      <th>明星國小最近實際距離</th>\n",
       "      <td>2.309062</td>\n",
       "    </tr>\n",
       "    <tr>\n",
       "      <th>百貨公司最近實際距離</th>\n",
       "      <td>4.038423</td>\n",
       "    </tr>\n",
       "    <tr>\n",
       "      <th>體育館最近實際距離</th>\n",
       "      <td>3.715922</td>\n",
       "    </tr>\n",
       "    <tr>\n",
       "      <th>加油站</th>\n",
       "      <td>1.598739</td>\n",
       "    </tr>\n",
       "    <tr>\n",
       "      <th>污水處理廠</th>\n",
       "      <td>4.774490</td>\n",
       "    </tr>\n",
       "    <tr>\n",
       "      <th>垃圾焚化廠</th>\n",
       "      <td>1.769740</td>\n",
       "    </tr>\n",
       "    <tr>\n",
       "      <th>飛機場</th>\n",
       "      <td>6.918543</td>\n",
       "    </tr>\n",
       "    <tr>\n",
       "      <th>殯儀館</th>\n",
       "      <td>4.081687</td>\n",
       "    </tr>\n",
       "    <tr>\n",
       "      <th>醫院</th>\n",
       "      <td>2.253265</td>\n",
       "    </tr>\n",
       "  </tbody>\n",
       "</table>\n",
       "</div>"
      ],
      "text/plain": [
       "                    VIF\n",
       "新面積            1.938409\n",
       "屋齡             2.180125\n",
       "移轉層次           1.852538\n",
       "總樓層數           2.629884\n",
       "建物現況格局-房       1.596027\n",
       "104下           1.105903\n",
       "105上           1.096300\n",
       "105下           1.095270\n",
       "106上           1.098324\n",
       "106下           1.036538\n",
       "華廈(10層含以下有電梯)  1.022481\n",
       "新交易車位數         1.475639\n",
       "士林區            1.118642\n",
       "大安區            1.098900\n",
       "中山區            1.169619\n",
       "南港區            1.060047\n",
       "萬華區            1.096830\n",
       "信義區            1.073433\n",
       "大公園最近實際距離      2.582323\n",
       "捷運站出口最近實際距離    1.832431\n",
       "明星國中近實際距離      2.519744\n",
       "明星國小最近實際距離     2.309062\n",
       "百貨公司最近實際距離     4.038423\n",
       "體育館最近實際距離      3.715922\n",
       "加油站            1.598739\n",
       "污水處理廠          4.774490\n",
       "垃圾焚化廠          1.769740\n",
       "飛機場            6.918543\n",
       "殯儀館            4.081687\n",
       "醫院             2.253265"
      ]
     },
     "execution_count": 36,
     "metadata": {},
     "output_type": "execute_result"
    }
   ],
   "source": [
    "VIF_check=[variance_inflation_factor(x_train.values, j) for j in range(x_train.shape[1])]\n",
    "VIF_check=pd.DataFrame(VIF_check,index=x_train.columns,columns=['VIF'])\n",
    "\n",
    "\n",
    "VIF_check=VIF_check.drop(['const'])\n",
    "if VIF_check['VIF'].max() <10:\n",
    "    print('no collinarity')\n",
    "else:\n",
    "    print(VIF_check['VIF'].argmax())\n",
    "    \n",
    "VIF_check"
   ]
  },
  {
   "cell_type": "markdown",
   "metadata": {},
   "source": [
    "# K-Fold Regression Model"
   ]
  },
  {
   "cell_type": "code",
   "execution_count": 37,
   "metadata": {},
   "outputs": [],
   "source": [
    "import pandas as pd\n",
    "import numpy as np\n",
    "from sklearn.linear_model import LinearRegression\n",
    "from sklearn.cross_validation import KFold\n",
    "from sklearn.utils import check_array\n",
    "from sklearn import metrics\n",
    "from sklearn.metrics import mean_absolute_error\n",
    "from sklearn.metrics import r2_score"
   ]
  },
  {
   "cell_type": "code",
   "execution_count": 38,
   "metadata": {},
   "outputs": [],
   "source": [
    "x = np.array(df[result])\n",
    "y = np.array(df['新總價'])\n",
    "x = np.array([np.concatenate((v,[1])) for v in x])"
   ]
  },
  {
   "cell_type": "code",
   "execution_count": 39,
   "metadata": {},
   "outputs": [],
   "source": [
    "linreg = LinearRegression(fit_intercept=False)"
   ]
  },
  {
   "cell_type": "code",
   "execution_count": 40,
   "metadata": {},
   "outputs": [],
   "source": [
    "kf = KFold(len(x), n_folds=10)\n",
    "xval_err = 0\n",
    "for train,test in kf:\n",
    "    linreg.fit(x[train],y[train])\n",
    "    p = linreg.predict(x[test])\n",
    "    e = p-y[test]"
   ]
  },
  {
   "cell_type": "code",
   "execution_count": 41,
   "metadata": {},
   "outputs": [],
   "source": [
    "y_test=np.exp(y[test])\n",
    "p = np.exp(p)"
   ]
  },
  {
   "cell_type": "markdown",
   "metadata": {},
   "source": [
    "#### MAPE"
   ]
  },
  {
   "cell_type": "code",
   "execution_count": 42,
   "metadata": {},
   "outputs": [],
   "source": [
    "def mean_absolute_percentage_error(y_true, y_pred): \n",
    "    y_true, y_pred = np.array(y_true), np.array(y_pred)\n",
    "    return np.mean(np.abs((y_true - y_pred) / y_true)) * 100\n",
    "MAPE=mean_absolute_percentage_error(y_test,p).round(2)"
   ]
  },
  {
   "cell_type": "markdown",
   "metadata": {},
   "source": [
    "#### MAE"
   ]
  },
  {
   "cell_type": "code",
   "execution_count": 43,
   "metadata": {},
   "outputs": [],
   "source": [
    "MAE=mean_absolute_error(y_test, p).round(2)"
   ]
  },
  {
   "cell_type": "markdown",
   "metadata": {},
   "source": [
    "#### RMSE"
   ]
  },
  {
   "cell_type": "code",
   "execution_count": 44,
   "metadata": {},
   "outputs": [],
   "source": [
    "RMSE=np.sqrt(metrics.mean_squared_error(y_test,p)).round(0)"
   ]
  },
  {
   "cell_type": "markdown",
   "metadata": {},
   "source": [
    "#### HIT RATE"
   ]
  },
  {
   "cell_type": "code",
   "execution_count": 45,
   "metadata": {},
   "outputs": [],
   "source": [
    "def Hit_Rate_error(y_test,predict_value,alpha):\n",
    "    \n",
    "    df_yp=[]\n",
    "    y_test=pd.DataFrame(y_test,columns=['y_test'])\n",
    "    predict_value=pd.DataFrame(predict_value,columns=['predict_value'])\n",
    "    df_yp = pd.concat([y_test,predict_value],axis=1)#y_test and predict_value\n",
    "    命中值 =[(df_yp['predict_value']<df_yp['y_test']+df_yp['y_test']*alpha)&(df_yp['predict_value']>df_yp['y_test']-df_yp['y_test']*alpha)]\n",
    "    choices = [1]\n",
    "    df_yp['命中值'] = np.select(命中值,choices,default=0)\n",
    "    HIT_rate = (df_yp['命中值'].sum()/len(y_test)*100).round(2)\n",
    "    return HIT_rate"
   ]
  },
  {
   "cell_type": "code",
   "execution_count": 46,
   "metadata": {},
   "outputs": [],
   "source": [
    "HIT_rate_10=Hit_Rate_error(y_test,p,0.1)"
   ]
  },
  {
   "cell_type": "code",
   "execution_count": 47,
   "metadata": {},
   "outputs": [],
   "source": [
    "HIT_rate_20=Hit_Rate_error(y_test,p,0.2)"
   ]
  },
  {
   "cell_type": "code",
   "execution_count": 48,
   "metadata": {},
   "outputs": [],
   "source": [
    "from sklearn.metrics import r2_score\n",
    "R2=r2_score(y_test, p).round(2)"
   ]
  },
  {
   "cell_type": "code",
   "execution_count": 49,
   "metadata": {},
   "outputs": [
    {
     "name": "stdout",
     "output_type": "stream",
     "text": [
      "R2:                 0.85\n",
      "MAPE:               15.98\n",
      "MAE:                4889172.29\n",
      "RMSE:               12631827.0\n",
      "HIT_rate_10:        38.25\n",
      "HIT_rate_20:        70.12\n"
     ]
    }
   ],
   "source": [
    "print('{:20}{:.4}'.format('R2:', R2))\n",
    "print('{:20}{:.10}'.format('MAPE:', MAPE))\n",
    "print('{:20}{:.10}'.format('MAE:', MAE))\n",
    "print('{:20}{:.10}'.format('RMSE:', RMSE))\n",
    "print('{:20}{:.10}'.format('HIT_rate_10:', HIT_rate_10))\n",
    "print('{:20}{:.10}'.format('HIT_rate_20:', HIT_rate_20))"
   ]
  }
 ],
 "metadata": {
  "kernelspec": {
   "display_name": "Python 3",
   "language": "python",
   "name": "python3"
  },
  "language_info": {
   "codemirror_mode": {
    "name": "ipython",
    "version": 3
   },
   "file_extension": ".py",
   "mimetype": "text/x-python",
   "name": "python",
   "nbconvert_exporter": "python",
   "pygments_lexer": "ipython3",
   "version": "3.6.4"
  }
 },
 "nbformat": 4,
 "nbformat_minor": 2
}
