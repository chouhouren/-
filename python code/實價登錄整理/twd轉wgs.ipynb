{
 "cells": [
  {
   "cell_type": "code",
   "execution_count": 10,
   "metadata": {},
   "outputs": [],
   "source": [
    "import twd97\n",
    "import pandas as pd\n",
    "import numpy as np\n",
    "\n",
    "\n",
    "df_clean = pd.read_excel(\"/Users/chouhouren/Desktop/實價登錄清理.xlsx\",sheet_name = 0)\n",
    "\n",
    "lat = df_clean[\"交易標的橫坐標\"]\n",
    "\n",
    "lon = df_clean[\"交易標的縱坐標\"]\n",
    "\n",
    "df_cor = []\n",
    "\n",
    "for a, o in zip(lat, lon):\n",
    "    #print(a, \":\", o)\n",
    "    df_座標 = twd97.towgs84(a,o)\n",
    "    #print(df_座標)\n",
    "    df_cor.append(df_座標)\n",
    "    \n",
    "    \n",
    "\n",
    "df_cordinate_convert = pd.DataFrame(np.array(df_cor).reshape(13626,2), columns = ['lat','lng'])\n",
    "\n",
    "df_cordinate_convert['座標'] = df_cordinate_convert['lat'].astype(str) +','+ df_cordinate_convert['lng'].astype(str)\n",
    "\n",
    "\n",
    "\n",
    "df_clean=pd.concat([df_clean,df_cordinate_convert],axis=1,ignore_index=True)\n",
    "\n",
    "df_clean=pd.DataFrame(df_clean)\n",
    "\n",
    "\n",
    "df_cordinate_convert.to_excel(\"實價登錄座標wgs.xlsx\")\n",
    "\n",
    "df_clean.to_excel('實價登錄+wgs座標.xlsx')\n"
   ]
  },
  {
   "cell_type": "code",
   "execution_count": 5,
   "metadata": {},
   "outputs": [
    {
     "data": {
      "text/plain": [
       "(25.004852792846748, 121.53840518829021)"
      ]
     },
     "execution_count": 5,
     "metadata": {},
     "output_type": "execute_result"
    }
   ],
   "source": [
    "import twd97\n",
    "\n",
    "df_座標 = twd97.towgs84(304345,2766423)\n",
    "\n",
    "df_座標"
   ]
  }
 ],
 "metadata": {
  "kernelspec": {
   "display_name": "Python 3",
   "language": "python",
   "name": "python3"
  },
  "language_info": {
   "codemirror_mode": {
    "name": "ipython",
    "version": 3
   },
   "file_extension": ".py",
   "mimetype": "text/x-python",
   "name": "python",
   "nbconvert_exporter": "python",
   "pygments_lexer": "ipython3",
   "version": "3.6.4"
  }
 },
 "nbformat": 4,
 "nbformat_minor": 2
}
