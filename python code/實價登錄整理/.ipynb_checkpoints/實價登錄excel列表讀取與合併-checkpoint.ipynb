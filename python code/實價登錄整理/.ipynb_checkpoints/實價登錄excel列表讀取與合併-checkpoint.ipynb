{
 "cells": [
  {
   "cell_type": "code",
   "execution_count": null,
   "metadata": {},
   "outputs": [],
   "source": [
    "import os\n",
    "import pandas as pd"
   ]
  },
  {
   "cell_type": "markdown",
   "metadata": {},
   "source": [
    "#### 讀取建物列表*5"
   ]
  },
  {
   "cell_type": "code",
   "execution_count": null,
   "metadata": {},
   "outputs": [],
   "source": [
    "df_1 = pd.read_excel(\"/Users/chouhouren/Desktop/論文資料_新/實價登錄購買/實價登錄購買資料.xlsx\",sheet_name='建物_1')\n",
    "df_2 = pd.read_excel(\"/Users/chouhouren/Desktop/論文資料_新/實價登錄購買/實價登錄購買資料.xlsx\",sheet_name='建物_2')\n",
    "df_3 = pd.read_excel(\"/Users/chouhouren/Desktop/論文資料_新/實價登錄購買/實價登錄購買資料.xlsx\",sheet_name='建物_3')\n",
    "df_4 = pd.read_excel(\"/Users/chouhouren/Desktop/論文資料_新/實價登錄購買/實價登錄購買資料.xlsx\",sheet_name='建物_4')\n",
    "df_5 = pd.read_excel(\"/Users/chouhouren/Desktop/論文資料_新/實價登錄購買/實價登錄購買資料.xlsx\",sheet_name='建物_5')"
   ]
  },
  {
   "cell_type": "code",
   "execution_count": null,
   "metadata": {},
   "outputs": [],
   "source": [
    "df_建物_concat =pd.concat ([df_1,df_2,df_3,df_4,df_5])"
   ]
  },
  {
   "cell_type": "markdown",
   "metadata": {},
   "source": [
    "#### 讀取不動產買賣列表*2"
   ]
  },
  {
   "cell_type": "code",
   "execution_count": null,
   "metadata": {},
   "outputs": [],
   "source": [
    "df_5 = pd.read_excel(\"/Users/chouhouren/Desktop/論文資料_新/實價登錄購買/實價登錄購買資料.xlsx\",sheet_name='不動產買賣_1')\n",
    "df_6 = pd.read_excel(\"/Users/chouhouren/Desktop/論文資料_新/實價登錄購買/實價登錄購買資料.xlsx\",sheet_name='不動產買賣_2')"
   ]
  },
  {
   "cell_type": "code",
   "execution_count": null,
   "metadata": {},
   "outputs": [],
   "source": [
    "df_不動產買賣_concat = pd.concat([df_5,df_6])"
   ]
  },
  {
   "cell_type": "markdown",
   "metadata": {},
   "source": [
    "#### merge建物列表與不動產買賣列表"
   ]
  },
  {
   "cell_type": "code",
   "execution_count": null,
   "metadata": {},
   "outputs": [],
   "source": [
    "df_建物不動產_merge = pd.merge(df_建物_concat,df_不動產買賣_concat , on=\"編號\")"
   ]
  },
  {
   "cell_type": "code",
   "execution_count": null,
   "metadata": {},
   "outputs": [],
   "source": [
    "df_建物不動產_merge.to_excel(\"實價登錄列表合併.xlsx\")"
   ]
  }
 ],
 "metadata": {
  "kernelspec": {
   "display_name": "Python 3",
   "language": "python",
   "name": "python3"
  },
  "language_info": {
   "codemirror_mode": {
    "name": "ipython",
    "version": 3
   },
   "file_extension": ".py",
   "mimetype": "text/x-python",
   "name": "python",
   "nbconvert_exporter": "python",
   "pygments_lexer": "ipython3",
   "version": "3.6.4"
  }
 },
 "nbformat": 4,
 "nbformat_minor": 2
}
