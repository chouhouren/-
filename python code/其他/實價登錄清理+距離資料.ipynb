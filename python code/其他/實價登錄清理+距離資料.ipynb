{
 "cells": [
  {
   "cell_type": "code",
   "execution_count": 3,
   "metadata": {},
   "outputs": [],
   "source": [
    "import pandas as pd\n",
    "import numpy as np"
   ]
  },
  {
   "cell_type": "code",
   "execution_count": 4,
   "metadata": {},
   "outputs": [],
   "source": [
    "df_實價登錄 = pd.read_excel('/Users/chouhouren/Desktop/論文資料_新/實價登錄清理.xlsx')\n",
    "\n",
    "df_迎毗直線 =pd.read_excel('/Users/chouhouren/Desktop/論文資料_新/距離檔案/df_迎毗設施直線距離.xlsx')\n",
    "\n",
    "df_迎毗實際 =pd.read_excel('/Users/chouhouren/Desktop/論文資料_新/距離檔案/df_迎毗設施實際距離.xlsx')\n",
    "\n",
    "df_鄰避直線 =pd.read_excel('/Users/chouhouren/Desktop/論文資料_新/距離檔案/df_鄰避設施直線距離.xlsx')"
   ]
  },
  {
   "cell_type": "code",
   "execution_count": 5,
   "metadata": {},
   "outputs": [],
   "source": [
    "df_實價登錄 = df_實價登錄.reset_index(drop=True)\n",
    "\n",
    "df_迎毗直線 = df_迎毗直線.reset_index(drop=True)\n",
    "\n",
    "df_迎毗實際 = df_迎毗實際.reset_index(drop=True)\n",
    "\n",
    "df_鄰避直線 = df_鄰避直線.reset_index(drop=True)"
   ]
  },
  {
   "cell_type": "code",
   "execution_count": 6,
   "metadata": {},
   "outputs": [
    {
     "name": "stdout",
     "output_type": "stream",
     "text": [
      "<class 'pandas.core.frame.DataFrame'>\n",
      "Int64Index: 13621 entries, 0 to 13620\n",
      "Data columns (total 62 columns):\n",
      "編號                 13621 non-null object\n",
      "新總價                13621 non-null float64\n",
      "新面積                13621 non-null float64\n",
      "屋齡                 13621 non-null int64\n",
      "移轉層次               13621 non-null int64\n",
      "總樓層數               13621 non-null int64\n",
      "建物現況格局-房           13621 non-null int64\n",
      "建物現況格局-廳           13621 non-null int64\n",
      "建物現況格局-衛           13621 non-null int64\n",
      "102上               13621 non-null int64\n",
      "102下               13621 non-null int64\n",
      "103上               13621 non-null int64\n",
      "103下               13621 non-null int64\n",
      "104上               13621 non-null int64\n",
      "104下               13621 non-null int64\n",
      "105上               13621 non-null int64\n",
      "105下               13621 non-null int64\n",
      "106上               13621 non-null int64\n",
      "106下               13621 non-null int64\n",
      "公寓(5樓含以下無電梯)       13621 non-null int64\n",
      "華廈(10層含以下有電梯)      13621 non-null int64\n",
      "住宅大樓(11層含以上有電梯)    13621 non-null int64\n",
      "RB                 13621 non-null int64\n",
      "RC                 13621 non-null int64\n",
      "SRC/SC             13621 non-null int64\n",
      "新交易車位數             13621 non-null int64\n",
      "平面車位               13621 non-null int64\n",
      "機械車位               13621 non-null int64\n",
      "其他車位               13621 non-null int64\n",
      "士林區                13621 non-null int64\n",
      "大同區                13621 non-null int64\n",
      "大安區                13621 non-null int64\n",
      "中山區                13621 non-null int64\n",
      "中正區                13621 non-null int64\n",
      "內湖區                13621 non-null int64\n",
      "文山區                13621 non-null int64\n",
      "北投區                13621 non-null int64\n",
      "松山區                13621 non-null int64\n",
      "南港區                13621 non-null int64\n",
      "萬華區                13621 non-null int64\n",
      "信義區                13621 non-null int64\n",
      "有無備註欄(Y/N)         13621 non-null object\n",
      "交易標的橫坐標            13621 non-null int64\n",
      "交易標的縱坐標            13621 non-null int64\n",
      "lat                13621 non-null float64\n",
      "lng                13621 non-null float64\n",
      "實價登錄座標             13621 non-null object\n",
      "捷運出口               13621 non-null int64\n",
      "鄰里公園               13621 non-null int64\n",
      "大公園                13621 non-null int64\n",
      "百貨公司               13621 non-null int64\n",
      "體育館                13621 non-null int64\n",
      "明星國小               13621 non-null int64\n",
      "明星國中               13621 non-null int64\n",
      "加油站                13621 non-null int64\n",
      "電塔                 13621 non-null int64\n",
      "污水處理廠              13621 non-null int64\n",
      "垃圾焚化廠              13621 non-null int64\n",
      "飛機場                13621 non-null int64\n",
      "變電所                13621 non-null int64\n",
      "殯儀館                13621 non-null int64\n",
      "醫院                 13621 non-null int64\n",
      "dtypes: float64(4), int64(55), object(3)\n",
      "memory usage: 6.5+ MB\n"
     ]
    }
   ],
   "source": [
    "df_直線模型 =pd.concat([df_實價登錄,df_迎毗直線,df_鄰避直線],axis=1)\n",
    "\n",
    "df_實際模型 =pd.concat([df_實價登錄,df_迎毗實際,df_鄰避直線],axis=1)\n",
    "\n",
    "\n",
    "df_實際模型 = df_實際模型[ ~(df_實際模型['大公園最近實際距離']=='missingvalue')]\n",
    "\n",
    "a=pd.DataFrame(df_實際模型['編號'])\n",
    "\n",
    "df_直線模型 = a.merge(df_直線模型,on='編號',how=\"left\")\n",
    "\n",
    "df_直線模型.info()"
   ]
  },
  {
   "cell_type": "code",
   "execution_count": 7,
   "metadata": {},
   "outputs": [],
   "source": [
    "df_直線模型.to_excel('df_直線模型.xlsx')\n",
    "\n",
    "df_實際模型.to_excel('df_實際模型.xlsx')"
   ]
  }
 ],
 "metadata": {
  "kernelspec": {
   "display_name": "Python 3",
   "language": "python",
   "name": "python3"
  },
  "language_info": {
   "codemirror_mode": {
    "name": "ipython",
    "version": 3
   },
   "file_extension": ".py",
   "mimetype": "text/x-python",
   "name": "python",
   "nbconvert_exporter": "python",
   "pygments_lexer": "ipython3",
   "version": "3.6.4"
  }
 },
 "nbformat": 4,
 "nbformat_minor": 2
}
