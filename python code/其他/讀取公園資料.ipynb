{
 "cells": [
  {
   "cell_type": "code",
   "execution_count": 28,
   "metadata": {},
   "outputs": [],
   "source": [
    "import pandas as pd\n",
    "\n",
    "df = pd.read_json(\"C:/Users/tommy/Downloads/公園面積.json\",encoding='utf-8')\n",
    "\n",
    "df.to_excel(\"park_area.xlsx\")"
   ]
  },
  {
   "cell_type": "code",
   "execution_count": 33,
   "metadata": {},
   "outputs": [],
   "source": [
    "import pandas as pd                 \n",
    "df = pd.read_excel(\"C:/Users/tommy/Desktop/python檔桌面/park_area_5000.xlsx\")\n",
    "\n",
    "df = df[  (df['Area'] >=10000)  ]\n",
    "\n",
    "df.to_excel(\"park_area_10000.xlsx\")\n"
   ]
  }
 ],
 "metadata": {
  "kernelspec": {
   "display_name": "Python 3",
   "language": "python",
   "name": "python3"
  },
  "language_info": {
   "codemirror_mode": {
    "name": "ipython",
    "version": 3
   },
   "file_extension": ".py",
   "mimetype": "text/x-python",
   "name": "python",
   "nbconvert_exporter": "python",
   "pygments_lexer": "ipython3",
   "version": "3.6.1"
  }
 },
 "nbformat": 4,
 "nbformat_minor": 2
}
