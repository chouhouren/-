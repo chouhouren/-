{
 "cells": [
  {
   "cell_type": "code",
   "execution_count": 28,
   "metadata": {},
   "outputs": [],
   "source": [
    "import pandas as pd\n",
    "import numpy as np\n",
    "\n",
    "df = pd.read_excel(\"C:/Users/tommy/Desktop/房屋跟捷運的座標.xlsx\")\n",
    "\n",
    "df_split = np.array_split(df,20)\n",
    "\n",
    "# Create a Pandas Excel writer using XlsxWriter as the engine.\n",
    "writer = pd.ExcelWriter('捷運20列表.xlsx', engine='xlsxwriter')\n",
    "\n",
    "# Write each dataframe to a different worksheet.\n",
    "df_split[0].to_excel(writer, sheet_name='sheet1')\n",
    "df_split[1].to_excel(writer, sheet_name='sheet2')\n",
    "df_split[2].to_excel(writer, sheet_name='sheet3')\n",
    "df_split[3].to_excel(writer, sheet_name='sheet4')\n",
    "df_split[4].to_excel(writer, sheet_name='sheet5')\n",
    "df_split[5].to_excel(writer, sheet_name='sheet6')\n",
    "df_split[6].to_excel(writer, sheet_name='sheet7')\n",
    "df_split[7].to_excel(writer, sheet_name='sheet8')\n",
    "df_split[8].to_excel(writer, sheet_name='sheet9')\n",
    "df_split[9].to_excel(writer, sheet_name='sheet10')\n",
    "df_split[10].to_excel(writer, sheet_name='sheet11')\n",
    "df_split[11].to_excel(writer, sheet_name='sheet12')\n",
    "df_split[12].to_excel(writer, sheet_name='sheet13')\n",
    "df_split[13].to_excel(writer, sheet_name='sheet14')\n",
    "df_split[14].to_excel(writer, sheet_name='sheet15')\n",
    "df_split[15].to_excel(writer, sheet_name='sheet16')\n",
    "df_split[16].to_excel(writer, sheet_name='sheet17')\n",
    "df_split[17].to_excel(writer, sheet_name='sheet18')\n",
    "df_split[18].to_excel(writer, sheet_name='sheet19')\n",
    "df_split[19].to_excel(writer, sheet_name='sheet20')\n",
    "\n",
    "\n",
    "# Close the Pandas Excel writer and output the Excel file.\n",
    "writer.save()\n",
    "\n"
   ]
  },
  {
   "cell_type": "code",
   "execution_count": 7,
   "metadata": {
    "collapsed": true
   },
   "outputs": [],
   "source": [
    "import pandas as pd\n",
    "\n",
    "\n",
    "# Create some Pandas dataframes from some data.\n",
    "df1 = pd.DataFrame({'Data': [11, 12, 13, 14]})\n",
    "df2 = pd.DataFrame({'Data': [21, 22, 23, 24]})\n",
    "df3 = pd.DataFrame({'Data': [31, 32, 33, 34]})\n",
    "\n",
    "# Create a Pandas Excel writer using XlsxWriter as the engine.\n",
    "writer = pd.ExcelWriter('pandas_multiple.xlsx', engine='xlsxwriter')\n",
    "\n",
    "# Write each dataframe to a different worksheet.\n",
    "df1.to_excel(writer, sheet_name='Sheet1')\n",
    "df2.to_excel(writer, sheet_name='Sheet2')\n",
    "df3.to_excel(writer, sheet_name='Sheet3')\n",
    "\n",
    "# Close the Pandas Excel writer and output the Excel file.\n",
    "writer.save()"
   ]
  },
  {
   "cell_type": "code",
   "execution_count": 12,
   "metadata": {},
   "outputs": [
    {
     "data": {
      "text/plain": [
       "array([0, 1, 2, 3, 4])"
      ]
     },
     "execution_count": 12,
     "metadata": {},
     "output_type": "execute_result"
    }
   ],
   "source": [
    "import numpy as np\n",
    "\n",
    "a = np.array(range(0,5))\n",
    "\n",
    "a\n"
   ]
  }
 ],
 "metadata": {
  "kernelspec": {
   "display_name": "Python 3",
   "language": "python",
   "name": "python3"
  },
  "language_info": {
   "codemirror_mode": {
    "name": "ipython",
    "version": 3
   },
   "file_extension": ".py",
   "mimetype": "text/x-python",
   "name": "python",
   "nbconvert_exporter": "python",
   "pygments_lexer": "ipython3",
   "version": "3.6.4"
  }
 },
 "nbformat": 4,
 "nbformat_minor": 2
}
