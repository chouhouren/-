{
 "cells": [
  {
   "cell_type": "code",
   "execution_count": 1,
   "metadata": {},
   "outputs": [
    {
     "name": "stdout",
     "output_type": "stream",
     "text": [
      "<class 'pandas.core.frame.DataFrame'>\n",
      "Int64Index: 13620 entries, 0 to 13619\n",
      "Data columns (total 10 columns):\n",
      "新總價         13620 non-null int64\n",
      "新面積         13620 non-null float64\n",
      "屋齡          13620 non-null int64\n",
      "總樓層數        13620 non-null int64\n",
      "移轉層次        13620 non-null int64\n",
      "建物現況格局-房    13620 non-null int64\n",
      "建物現況格局-廳    13620 non-null int64\n",
      "建物現況格局-衛    13620 non-null int64\n",
      "新交易車位數      13620 non-null int64\n",
      "編號          13620 non-null object\n",
      "dtypes: float64(1), int64(8), object(1)\n",
      "memory usage: 1.1+ MB\n"
     ]
    }
   ],
   "source": [
    "import pandas as pd\n",
    "\n",
    "\n",
    "a =pd.read_excel(\"/Users/chouhouren/Desktop/論文資料_新/python code/其他/df_實際距離合併等等刪.xlsx\",sheet_name='房屋現況')\n",
    "a=a.dropna()\n",
    "a.info()"
   ]
  },
  {
   "cell_type": "code",
   "execution_count": 2,
   "metadata": {},
   "outputs": [],
   "source": [
    "a.describe().T.to_excel('descibe.xlsx')"
   ]
  },
  {
   "cell_type": "code",
   "execution_count": 2,
   "metadata": {},
   "outputs": [
    {
     "name": "stdout",
     "output_type": "stream",
     "text": [
      "1\n",
      "3\n",
      "0\n",
      "1\n",
      "0\n",
      "0\n",
      "1\n",
      "2\n",
      "1\n",
      "1\n",
      "0\n",
      "1\n"
     ]
    }
   ],
   "source": [
    "b = a[  (a['102上'] ==1)  ]\n",
    "\n",
    "print(sum(b['士林區']))\n",
    "print(sum(b['大同區']))\n",
    "print(sum(b['大安區']))\n",
    "print(sum(b['中山區']))\n",
    "print(sum(b['中正區']))\n",
    "print(sum(b['萬華區']))\n",
    "print(sum(b['內湖區']))\n",
    "print(sum(b['文山區']))\n",
    "print(sum(b['北投區']))\n",
    "print(sum(b['松山區']))\n",
    "print(sum(b['南港區']))\n",
    "print(sum(b['信義區']))"
   ]
  },
  {
   "cell_type": "code",
   "execution_count": 3,
   "metadata": {},
   "outputs": [
    {
     "name": "stdout",
     "output_type": "stream",
     "text": [
      "59\n",
      "21\n",
      "61\n",
      "105\n",
      "23\n",
      "29\n",
      "93\n",
      "58\n",
      "51\n",
      "59\n",
      "34\n",
      "44\n"
     ]
    }
   ],
   "source": [
    "c = a[  (a['102下'] ==1)  ]\n",
    "\n",
    "print(sum(c['士林區']))\n",
    "print(sum(c['大同區']))\n",
    "print(sum(c['大安區']))\n",
    "print(sum(c['中山區']))\n",
    "print(sum(c['中正區']))\n",
    "print(sum(c['萬華區']))\n",
    "print(sum(c['內湖區']))\n",
    "print(sum(c['文山區']))\n",
    "print(sum(c['北投區']))\n",
    "print(sum(c['松山區']))\n",
    "print(sum(c['南港區']))\n",
    "print(sum(c['信義區']))"
   ]
  },
  {
   "cell_type": "code",
   "execution_count": 4,
   "metadata": {},
   "outputs": [
    {
     "name": "stdout",
     "output_type": "stream",
     "text": [
      "218\n",
      "74\n",
      "202\n",
      "388\n",
      "84\n",
      "123\n",
      "343\n",
      "213\n",
      "234\n",
      "181\n",
      "95\n",
      "166\n"
     ]
    }
   ],
   "source": [
    "d = a[  (a['103上'] ==1)  ]\n",
    "print(sum(d['士林區']))\n",
    "print(sum(d['大同區']))\n",
    "print(sum(d['大安區']))\n",
    "print(sum(d['中山區']))\n",
    "print(sum(d['中正區']))\n",
    "print(sum(d['萬華區']))\n",
    "print(sum(d['內湖區']))\n",
    "print(sum(d['文山區']))\n",
    "print(sum(d['北投區']))\n",
    "print(sum(d['松山區']))\n",
    "print(sum(d['南港區']))\n",
    "print(sum(d['信義區']))"
   ]
  },
  {
   "cell_type": "code",
   "execution_count": 5,
   "metadata": {},
   "outputs": [
    {
     "name": "stdout",
     "output_type": "stream",
     "text": [
      "201\n",
      "53\n",
      "181\n",
      "325\n",
      "80\n",
      "100\n",
      "323\n",
      "200\n",
      "245\n",
      "138\n",
      "97\n",
      "156\n"
     ]
    }
   ],
   "source": [
    "e = a[  (a['103下'] ==1)  ]\n",
    "print(sum(e['士林區']))\n",
    "print(sum(e['大同區']))\n",
    "print(sum(e['大安區']))\n",
    "print(sum(e['中山區']))\n",
    "print(sum(e['中正區']))\n",
    "print(sum(e['萬華區']))\n",
    "print(sum(e['內湖區']))\n",
    "print(sum(e['文山區']))\n",
    "print(sum(e['北投區']))\n",
    "print(sum(e['松山區']))\n",
    "print(sum(e['南港區']))\n",
    "print(sum(e['信義區']))"
   ]
  },
  {
   "cell_type": "code",
   "execution_count": 6,
   "metadata": {},
   "outputs": [
    {
     "name": "stdout",
     "output_type": "stream",
     "text": [
      "168\n",
      "51\n",
      "165\n",
      "246\n",
      "90\n",
      "94\n",
      "312\n",
      "174\n",
      "205\n",
      "128\n",
      "82\n",
      "111\n"
     ]
    }
   ],
   "source": [
    "f = a[  (a['104上'] ==1)  ]\n",
    "print(sum(f['士林區']))\n",
    "print(sum(f['大同區']))\n",
    "print(sum(f['大安區']))\n",
    "print(sum(f['中山區']))\n",
    "print(sum(f['中正區']))\n",
    "print(sum(f['萬華區']))\n",
    "print(sum(f['內湖區']))\n",
    "print(sum(f['文山區']))\n",
    "print(sum(f['北投區']))\n",
    "print(sum(f['松山區']))\n",
    "print(sum(f['南港區']))\n",
    "print(sum(f['信義區']))"
   ]
  },
  {
   "cell_type": "code",
   "execution_count": 7,
   "metadata": {},
   "outputs": [
    {
     "name": "stdout",
     "output_type": "stream",
     "text": [
      "201\n",
      "71\n",
      "199\n",
      "222\n",
      "99\n",
      "90\n",
      "297\n",
      "181\n",
      "227\n",
      "113\n",
      "77\n",
      "111\n"
     ]
    }
   ],
   "source": [
    "g = a[  (a['104下'] ==1)  ]\n",
    "print(sum(g['士林區']))\n",
    "print(sum(g['大同區']))\n",
    "print(sum(g['大安區']))\n",
    "print(sum(g['中山區']))\n",
    "print(sum(g['中正區']))\n",
    "print(sum(g['萬華區']))\n",
    "print(sum(g['內湖區']))\n",
    "print(sum(g['文山區']))\n",
    "print(sum(g['北投區']))\n",
    "print(sum(g['松山區']))\n",
    "print(sum(g['南港區']))\n",
    "print(sum(g['信義區']))"
   ]
  },
  {
   "cell_type": "code",
   "execution_count": 8,
   "metadata": {},
   "outputs": [
    {
     "name": "stdout",
     "output_type": "stream",
     "text": [
      "170\n",
      "46\n",
      "110\n",
      "166\n",
      "69\n",
      "100\n",
      "265\n",
      "171\n",
      "171\n",
      "80\n",
      "106\n",
      "114\n"
     ]
    }
   ],
   "source": [
    "h = a[  (a['105上'] ==1)  ]\n",
    "print(sum(h['士林區']))\n",
    "print(sum(h['大同區']))\n",
    "print(sum(h['大安區']))\n",
    "print(sum(h['中山區']))\n",
    "print(sum(h['中正區']))\n",
    "print(sum(h['萬華區']))\n",
    "print(sum(h['內湖區']))\n",
    "print(sum(h['文山區']))\n",
    "print(sum(h['北投區']))\n",
    "print(sum(h['松山區']))\n",
    "print(sum(h['南港區']))\n",
    "print(sum(h['信義區']))"
   ]
  },
  {
   "cell_type": "code",
   "execution_count": 9,
   "metadata": {},
   "outputs": [
    {
     "name": "stdout",
     "output_type": "stream",
     "text": [
      "152\n",
      "46\n",
      "135\n",
      "167\n",
      "54\n",
      "73\n",
      "242\n",
      "157\n",
      "175\n",
      "95\n",
      "89\n",
      "94\n"
     ]
    }
   ],
   "source": [
    "i = a[  (a['105下'] ==1)  ]\n",
    "print(sum(i['士林區']))\n",
    "print(sum(i['大同區']))\n",
    "print(sum(i['大安區']))\n",
    "print(sum(i['中山區']))\n",
    "print(sum(i['中正區']))\n",
    "print(sum(i['萬華區']))\n",
    "print(sum(i['內湖區']))\n",
    "print(sum(i['文山區']))\n",
    "print(sum(i['北投區']))\n",
    "print(sum(i['松山區']))\n",
    "print(sum(i['南港區']))\n",
    "print(sum(i['信義區']))"
   ]
  },
  {
   "cell_type": "code",
   "execution_count": 10,
   "metadata": {},
   "outputs": [
    {
     "name": "stdout",
     "output_type": "stream",
     "text": [
      "150\n",
      "40\n",
      "90\n",
      "204\n",
      "64\n",
      "83\n",
      "191\n",
      "127\n",
      "176\n",
      "83\n",
      "85\n",
      "75\n"
     ]
    }
   ],
   "source": [
    "j = a[  (a['106上'] ==1)  ]\n",
    "print(sum(j['士林區']))\n",
    "print(sum(j['大同區']))\n",
    "print(sum(j['大安區']))\n",
    "print(sum(j['中山區']))\n",
    "print(sum(j['中正區']))\n",
    "print(sum(j['萬華區']))\n",
    "print(sum(j['內湖區']))\n",
    "print(sum(j['文山區']))\n",
    "print(sum(j['北投區']))\n",
    "print(sum(j['松山區']))\n",
    "print(sum(j['南港區']))\n",
    "print(sum(j['信義區']))"
   ]
  },
  {
   "cell_type": "code",
   "execution_count": 11,
   "metadata": {},
   "outputs": [
    {
     "name": "stdout",
     "output_type": "stream",
     "text": [
      "42\n",
      "18\n",
      "33\n",
      "66\n",
      "13\n",
      "26\n",
      "65\n",
      "39\n",
      "40\n",
      "31\n",
      "18\n",
      "33\n"
     ]
    }
   ],
   "source": [
    "k = a[  (a['106下'] ==1)  ]\n",
    "print(sum(k['士林區']))\n",
    "print(sum(k['大同區']))\n",
    "print(sum(k['大安區']))\n",
    "print(sum(k['中山區']))\n",
    "print(sum(k['中正區']))\n",
    "print(sum(k['萬華區']))\n",
    "print(sum(k['內湖區']))\n",
    "print(sum(k['文山區']))\n",
    "print(sum(k['北投區']))\n",
    "print(sum(k['松山區']))\n",
    "print(sum(k['南港區']))\n",
    "print(sum(k['信義區']))"
   ]
  },
  {
   "cell_type": "code",
   "execution_count": 13,
   "metadata": {},
   "outputs": [
    {
     "ename": "AttributeError",
     "evalue": "module 'pandas' has no attribute 'cocat'",
     "output_type": "error",
     "traceback": [
      "\u001b[0;31m---------------------------------------------------------------------------\u001b[0m",
      "\u001b[0;31mAttributeError\u001b[0m                            Traceback (most recent call last)",
      "\u001b[0;32m<ipython-input-13-64628bcba579>\u001b[0m in \u001b[0;36m<module>\u001b[0;34m()\u001b[0m\n\u001b[0;32m----> 1\u001b[0;31m \u001b[0mdf_年度行政區\u001b[0m \u001b[0;34m=\u001b[0m \u001b[0mpd\u001b[0m\u001b[0;34m.\u001b[0m\u001b[0mcocat\u001b[0m\u001b[0;34m(\u001b[0m\u001b[0;34m[\u001b[0m\u001b[0mb\u001b[0m\u001b[0;34m,\u001b[0m\u001b[0mc\u001b[0m\u001b[0;34m,\u001b[0m\u001b[0md\u001b[0m\u001b[0;34m,\u001b[0m\u001b[0me\u001b[0m\u001b[0;34m,\u001b[0m\u001b[0mf\u001b[0m\u001b[0;34m,\u001b[0m\u001b[0mg\u001b[0m\u001b[0;34m,\u001b[0m\u001b[0mh\u001b[0m\u001b[0;34m,\u001b[0m\u001b[0mi\u001b[0m\u001b[0;34m,\u001b[0m\u001b[0mj\u001b[0m\u001b[0;34m,\u001b[0m\u001b[0mk\u001b[0m\u001b[0;34m]\u001b[0m\u001b[0;34m,\u001b[0m\u001b[0maxis\u001b[0m\u001b[0;34m=\u001b[0m\u001b[0;36m1\u001b[0m\u001b[0;34m)\u001b[0m\u001b[0;34m\u001b[0m\u001b[0m\n\u001b[0m\u001b[1;32m      2\u001b[0m \u001b[0;34m\u001b[0m\u001b[0m\n\u001b[1;32m      3\u001b[0m \u001b[0mdf_年度行政區\u001b[0m\u001b[0;34m\u001b[0m\u001b[0m\n",
      "\u001b[0;31mAttributeError\u001b[0m: module 'pandas' has no attribute 'cocat'"
     ]
    }
   ],
   "source": [
    "df_年度行政區 = pd.concat([b,c,d,e,f,g,h,i,j,k],axis=1)\n",
    "\n",
    "df_年度行政區"
   ]
  }
 ],
 "metadata": {
  "kernelspec": {
   "display_name": "Python 3",
   "language": "python",
   "name": "python3"
  },
  "language_info": {
   "codemirror_mode": {
    "name": "ipython",
    "version": 3
   },
   "file_extension": ".py",
   "mimetype": "text/x-python",
   "name": "python",
   "nbconvert_exporter": "python",
   "pygments_lexer": "ipython3",
   "version": "3.6.4"
  }
 },
 "nbformat": 4,
 "nbformat_minor": 2
}
