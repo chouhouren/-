{
 "cells": [
  {
   "cell_type": "code",
   "execution_count": 5,
   "metadata": {},
   "outputs": [
    {
     "name": "stdout",
     "output_type": "stream",
     "text": [
      "1\n",
      "2\n",
      "3\n",
      "4\n",
      "5\n",
      "6\n",
      "7\n",
      "10\n",
      "12\n",
      "16\n",
      "19\n",
      "11\n",
      "11\n"
     ]
    }
   ],
   "source": [
    "import pandas as pd\n",
    "\n",
    "df = pd.read_excel(\"C:/Users/tommy/Desktop/國小篩選表.xlsx\",sheetname = 0)\n",
    "df = pd.read_excel(\"C:/Users/tommy/Desktop/國小篩選表.xlsx\",sheetname = 0)\n",
    "\n",
    "\n",
    "a = df [\"106年\"]\n",
    "b = df [\"105年\"]\n",
    "c = df [\"104年\"]\n",
    "d = df [\"103年\"]\n",
    "e = df [\"102年\"]\n",
    "\n",
    "for i1 in a:\n",
    "    for i2 in b:\n",
    "        for i3 in c:\n",
    "            for i4 in d:\n",
    "                for i5 in e:\n",
    "                    if i1==i2==i3==i4==i5:\n",
    "                        print(i1)\n",
    "        "
   ]
  }
 ],
 "metadata": {
  "kernelspec": {
   "display_name": "Python 3",
   "language": "python",
   "name": "python3"
  },
  "language_info": {
   "codemirror_mode": {
    "name": "ipython",
    "version": 3
   },
   "file_extension": ".py",
   "mimetype": "text/x-python",
   "name": "python",
   "nbconvert_exporter": "python",
   "pygments_lexer": "ipython3",
   "version": "3.6.4"
  }
 },
 "nbformat": 4,
 "nbformat_minor": 2
}
