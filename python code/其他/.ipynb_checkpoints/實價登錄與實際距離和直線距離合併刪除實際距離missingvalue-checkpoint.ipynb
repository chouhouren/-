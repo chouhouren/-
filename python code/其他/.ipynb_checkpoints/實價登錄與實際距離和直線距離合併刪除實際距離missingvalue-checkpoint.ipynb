{
 "cells": [
  {
   "cell_type": "code",
   "execution_count": null,
   "metadata": {
    "collapsed": true
   },
   "outputs": [],
   "source": [
    "import pandas as pd\n",
    "\n",
    "df_800 =pd.read_excel(\"C:/Users/tommy/Desktop/python檔桌面/df_800_3000_concat.xlsx\",sheetname = 0)\n",
    "\n",
    "df_3000 =pd.read_excel(\"C:/Users/tommy/Desktop/python檔桌面/df_800_3000_concat.xlsx\",sheetname = 1)\n",
    "\n",
    "df_捷運_merge = pd.merge(df_3000,df_800,on=\"編號\")\n",
    "\n",
    "df_捷運_merge.to_excel(\"df_捷運_merge.xlsx\")"
   ]
  }
 ],
 "metadata": {
  "kernelspec": {
   "display_name": "Python 3",
   "language": "python",
   "name": "python3"
  },
  "language_info": {
   "codemirror_mode": {
    "name": "ipython",
    "version": 3
   },
   "file_extension": ".py",
   "mimetype": "text/x-python",
   "name": "python",
   "nbconvert_exporter": "python",
   "pygments_lexer": "ipython3",
   "version": "3.6.4"
  }
 },
 "nbformat": 4,
 "nbformat_minor": 2
}
