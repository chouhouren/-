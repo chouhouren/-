{
 "cells": [
  {
   "cell_type": "code",
   "execution_count": 1,
   "metadata": {},
   "outputs": [
    {
     "name": "stdout",
     "output_type": "stream",
     "text": [
      "<class 'pandas.core.frame.DataFrame'>\n",
      "Int64Index: 13621 entries, 0 to 13620\n",
      "Data columns (total 56 columns):\n",
      "編號                 13621 non-null object\n",
      "新總價                13621 non-null float64\n",
      "新面積                13621 non-null float64\n",
      "屋齡                 13621 non-null int64\n",
      "移轉層次               13621 non-null int64\n",
      "總樓層數               13621 non-null int64\n",
      "建物現況格局-房           13621 non-null int64\n",
      "建物現況格局-廳           13621 non-null int64\n",
      "建物現況格局-衛           13621 non-null int64\n",
      "102上               13621 non-null int64\n",
      "102下               13621 non-null int64\n",
      "103上               13621 non-null int64\n",
      "103下               13621 non-null int64\n",
      "104上               13621 non-null int64\n",
      "104下               13621 non-null int64\n",
      "105上               13621 non-null int64\n",
      "105下               13621 non-null int64\n",
      "106上               13621 non-null int64\n",
      "106下               13621 non-null int64\n",
      "公寓(5樓含以下無電梯)       13621 non-null int64\n",
      "華廈(10層含以下有電梯)      13621 non-null int64\n",
      "住宅大樓(11層含以上有電梯)    13621 non-null int64\n",
      "RB                 13621 non-null int64\n",
      "RC                 13621 non-null int64\n",
      "SRC/SC             13621 non-null int64\n",
      "新交易車位數             13621 non-null int64\n",
      "平面車位               13621 non-null int64\n",
      "機械車位               13621 non-null int64\n",
      "其他車位               13621 non-null int64\n",
      "士林區                13621 non-null int64\n",
      "大同區                13621 non-null int64\n",
      "大安區                13621 non-null int64\n",
      "中山區                13621 non-null int64\n",
      "中正區                13621 non-null int64\n",
      "內湖區                13621 non-null int64\n",
      "文山區                13621 non-null int64\n",
      "北投區                13621 non-null int64\n",
      "松山區                13621 non-null int64\n",
      "南港區                13621 non-null int64\n",
      "萬華區                13621 non-null int64\n",
      "信義區                13621 non-null int64\n",
      "捷運出口               13621 non-null int64\n",
      "鄰里公園               13621 non-null int64\n",
      "大公園                13621 non-null int64\n",
      "百貨公司               13621 non-null int64\n",
      "體育館                13621 non-null int64\n",
      "明星國小               13621 non-null int64\n",
      "明星國中               13621 non-null int64\n",
      "加油站                13621 non-null int64\n",
      "電塔                 13621 non-null int64\n",
      "污水處理廠              13621 non-null int64\n",
      "垃圾焚化廠              13621 non-null int64\n",
      "飛機場                13621 non-null int64\n",
      "變電所                13621 non-null int64\n",
      "殯儀館                13621 non-null int64\n",
      "醫院                 13621 non-null int64\n",
      "dtypes: float64(2), int64(53), object(1)\n",
      "memory usage: 5.9+ MB\n"
     ]
    }
   ],
   "source": [
    "import pandas as pd\n",
    "\n",
    "\n",
    "a =pd.read_excel(\"/Users/chouhouren/Desktop/論文資料_新/建模型資料/df_直線模型.xlsx\")\n",
    "a=a.dropna()\n",
    "a.info()"
   ]
  },
  {
   "cell_type": "code",
   "execution_count": 2,
   "metadata": {},
   "outputs": [
    {
     "name": "stdout",
     "output_type": "stream",
     "text": [
      "1\n",
      "3\n",
      "0\n",
      "1\n",
      "0\n",
      "0\n",
      "1\n",
      "2\n",
      "1\n",
      "1\n",
      "0\n",
      "1\n"
     ]
    }
   ],
   "source": [
    "b = a[  (a['102上'] ==1)  ]\n",
    "\n",
    "print(sum(b['士林區']))\n",
    "print(sum(b['大同區']))\n",
    "print(sum(b['大安區']))\n",
    "print(sum(b['中山區']))\n",
    "print(sum(b['中正區']))\n",
    "print(sum(b['萬華區']))\n",
    "print(sum(b['內湖區']))\n",
    "print(sum(b['文山區']))\n",
    "print(sum(b['北投區']))\n",
    "print(sum(b['松山區']))\n",
    "print(sum(b['南港區']))\n",
    "print(sum(b['信義區']))"
   ]
  },
  {
   "cell_type": "code",
   "execution_count": 3,
   "metadata": {},
   "outputs": [
    {
     "name": "stdout",
     "output_type": "stream",
     "text": [
      "59\n",
      "21\n",
      "61\n",
      "105\n",
      "23\n",
      "29\n",
      "93\n",
      "58\n",
      "51\n",
      "59\n",
      "34\n",
      "44\n"
     ]
    }
   ],
   "source": [
    "c = a[  (a['102下'] ==1)  ]\n",
    "\n",
    "print(sum(c['士林區']))\n",
    "print(sum(c['大同區']))\n",
    "print(sum(c['大安區']))\n",
    "print(sum(c['中山區']))\n",
    "print(sum(c['中正區']))\n",
    "print(sum(c['萬華區']))\n",
    "print(sum(c['內湖區']))\n",
    "print(sum(c['文山區']))\n",
    "print(sum(c['北投區']))\n",
    "print(sum(c['松山區']))\n",
    "print(sum(c['南港區']))\n",
    "print(sum(c['信義區']))"
   ]
  },
  {
   "cell_type": "code",
   "execution_count": 4,
   "metadata": {},
   "outputs": [
    {
     "name": "stdout",
     "output_type": "stream",
     "text": [
      "218\n",
      "74\n",
      "202\n",
      "388\n",
      "84\n",
      "123\n",
      "343\n",
      "213\n",
      "234\n",
      "181\n",
      "95\n",
      "166\n"
     ]
    }
   ],
   "source": [
    "d = a[  (a['103上'] ==1)  ]\n",
    "print(sum(d['士林區']))\n",
    "print(sum(d['大同區']))\n",
    "print(sum(d['大安區']))\n",
    "print(sum(d['中山區']))\n",
    "print(sum(d['中正區']))\n",
    "print(sum(d['萬華區']))\n",
    "print(sum(d['內湖區']))\n",
    "print(sum(d['文山區']))\n",
    "print(sum(d['北投區']))\n",
    "print(sum(d['松山區']))\n",
    "print(sum(d['南港區']))\n",
    "print(sum(d['信義區']))"
   ]
  },
  {
   "cell_type": "code",
   "execution_count": 5,
   "metadata": {},
   "outputs": [
    {
     "name": "stdout",
     "output_type": "stream",
     "text": [
      "201\n",
      "53\n",
      "181\n",
      "325\n",
      "80\n",
      "100\n",
      "323\n",
      "200\n",
      "245\n",
      "138\n",
      "97\n",
      "156\n"
     ]
    }
   ],
   "source": [
    "e = a[  (a['103下'] ==1)  ]\n",
    "print(sum(e['士林區']))\n",
    "print(sum(e['大同區']))\n",
    "print(sum(e['大安區']))\n",
    "print(sum(e['中山區']))\n",
    "print(sum(e['中正區']))\n",
    "print(sum(e['萬華區']))\n",
    "print(sum(e['內湖區']))\n",
    "print(sum(e['文山區']))\n",
    "print(sum(e['北投區']))\n",
    "print(sum(e['松山區']))\n",
    "print(sum(e['南港區']))\n",
    "print(sum(e['信義區']))"
   ]
  },
  {
   "cell_type": "code",
   "execution_count": 6,
   "metadata": {},
   "outputs": [
    {
     "name": "stdout",
     "output_type": "stream",
     "text": [
      "168\n",
      "51\n",
      "165\n",
      "246\n",
      "90\n",
      "94\n",
      "312\n",
      "174\n",
      "205\n",
      "128\n",
      "82\n",
      "111\n"
     ]
    }
   ],
   "source": [
    "f = a[  (a['104上'] ==1)  ]\n",
    "print(sum(f['士林區']))\n",
    "print(sum(f['大同區']))\n",
    "print(sum(f['大安區']))\n",
    "print(sum(f['中山區']))\n",
    "print(sum(f['中正區']))\n",
    "print(sum(f['萬華區']))\n",
    "print(sum(f['內湖區']))\n",
    "print(sum(f['文山區']))\n",
    "print(sum(f['北投區']))\n",
    "print(sum(f['松山區']))\n",
    "print(sum(f['南港區']))\n",
    "print(sum(f['信義區']))"
   ]
  },
  {
   "cell_type": "code",
   "execution_count": 7,
   "metadata": {},
   "outputs": [
    {
     "name": "stdout",
     "output_type": "stream",
     "text": [
      "201\n",
      "71\n",
      "199\n",
      "222\n",
      "99\n",
      "90\n",
      "297\n",
      "181\n",
      "227\n",
      "113\n",
      "77\n",
      "111\n"
     ]
    }
   ],
   "source": [
    "g = a[  (a['104下'] ==1)  ]\n",
    "print(sum(g['士林區']))\n",
    "print(sum(g['大同區']))\n",
    "print(sum(g['大安區']))\n",
    "print(sum(g['中山區']))\n",
    "print(sum(g['中正區']))\n",
    "print(sum(g['萬華區']))\n",
    "print(sum(g['內湖區']))\n",
    "print(sum(g['文山區']))\n",
    "print(sum(g['北投區']))\n",
    "print(sum(g['松山區']))\n",
    "print(sum(g['南港區']))\n",
    "print(sum(g['信義區']))"
   ]
  },
  {
   "cell_type": "code",
   "execution_count": 8,
   "metadata": {},
   "outputs": [
    {
     "name": "stdout",
     "output_type": "stream",
     "text": [
      "170\n",
      "46\n",
      "110\n",
      "166\n",
      "69\n",
      "100\n",
      "265\n",
      "171\n",
      "171\n",
      "80\n",
      "106\n",
      "114\n"
     ]
    }
   ],
   "source": [
    "h = a[  (a['105上'] ==1)  ]\n",
    "print(sum(h['士林區']))\n",
    "print(sum(h['大同區']))\n",
    "print(sum(h['大安區']))\n",
    "print(sum(h['中山區']))\n",
    "print(sum(h['中正區']))\n",
    "print(sum(h['萬華區']))\n",
    "print(sum(h['內湖區']))\n",
    "print(sum(h['文山區']))\n",
    "print(sum(h['北投區']))\n",
    "print(sum(h['松山區']))\n",
    "print(sum(h['南港區']))\n",
    "print(sum(h['信義區']))"
   ]
  },
  {
   "cell_type": "code",
   "execution_count": 9,
   "metadata": {},
   "outputs": [
    {
     "name": "stdout",
     "output_type": "stream",
     "text": [
      "152\n",
      "46\n",
      "135\n",
      "167\n",
      "54\n",
      "73\n",
      "242\n",
      "157\n",
      "175\n",
      "95\n",
      "89\n",
      "94\n"
     ]
    }
   ],
   "source": [
    "i = a[  (a['105下'] ==1)  ]\n",
    "print(sum(i['士林區']))\n",
    "print(sum(i['大同區']))\n",
    "print(sum(i['大安區']))\n",
    "print(sum(i['中山區']))\n",
    "print(sum(i['中正區']))\n",
    "print(sum(i['萬華區']))\n",
    "print(sum(i['內湖區']))\n",
    "print(sum(i['文山區']))\n",
    "print(sum(i['北投區']))\n",
    "print(sum(i['松山區']))\n",
    "print(sum(i['南港區']))\n",
    "print(sum(i['信義區']))"
   ]
  },
  {
   "cell_type": "code",
   "execution_count": 10,
   "metadata": {},
   "outputs": [
    {
     "name": "stdout",
     "output_type": "stream",
     "text": [
      "150\n",
      "40\n",
      "90\n",
      "204\n",
      "64\n",
      "83\n",
      "191\n",
      "127\n",
      "176\n",
      "83\n",
      "85\n",
      "75\n"
     ]
    }
   ],
   "source": [
    "j = a[  (a['106上'] ==1)  ]\n",
    "print(sum(j['士林區']))\n",
    "print(sum(j['大同區']))\n",
    "print(sum(j['大安區']))\n",
    "print(sum(j['中山區']))\n",
    "print(sum(j['中正區']))\n",
    "print(sum(j['萬華區']))\n",
    "print(sum(j['內湖區']))\n",
    "print(sum(j['文山區']))\n",
    "print(sum(j['北投區']))\n",
    "print(sum(j['松山區']))\n",
    "print(sum(j['南港區']))\n",
    "print(sum(j['信義區']))"
   ]
  },
  {
   "cell_type": "code",
   "execution_count": 11,
   "metadata": {},
   "outputs": [
    {
     "name": "stdout",
     "output_type": "stream",
     "text": [
      "42\n",
      "18\n",
      "33\n",
      "66\n",
      "13\n",
      "26\n",
      "65\n",
      "39\n",
      "40\n",
      "31\n",
      "18\n",
      "33\n"
     ]
    }
   ],
   "source": [
    "k = a[  (a['106下'] ==1)  ]\n",
    "print(sum(k['士林區']))\n",
    "print(sum(k['大同區']))\n",
    "print(sum(k['大安區']))\n",
    "print(sum(k['中山區']))\n",
    "print(sum(k['中正區']))\n",
    "print(sum(k['萬華區']))\n",
    "print(sum(k['內湖區']))\n",
    "print(sum(k['文山區']))\n",
    "print(sum(k['北投區']))\n",
    "print(sum(k['松山區']))\n",
    "print(sum(k['南港區']))\n",
    "print(sum(k['信義區']))"
   ]
  },
  {
   "cell_type": "code",
   "execution_count": null,
   "metadata": {},
   "outputs": [],
   "source": [
    "df_年度行政區 = pd.cocat([])"
   ]
  }
 ],
 "metadata": {
  "kernelspec": {
   "display_name": "Python 3",
   "language": "python",
   "name": "python3"
  },
  "language_info": {
   "codemirror_mode": {
    "name": "ipython",
    "version": 3
   },
   "file_extension": ".py",
   "mimetype": "text/x-python",
   "name": "python",
   "nbconvert_exporter": "python",
   "pygments_lexer": "ipython3",
   "version": "3.6.4"
  }
 },
 "nbformat": 4,
 "nbformat_minor": 2
}
