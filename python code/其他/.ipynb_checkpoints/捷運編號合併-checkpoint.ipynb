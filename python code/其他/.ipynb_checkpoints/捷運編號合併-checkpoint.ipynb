{
 "cells": [
  {
   "cell_type": "code",
   "execution_count": 2,
   "metadata": {},
   "outputs": [],
   "source": [
    "import pandas as pd\n",
    "\n",
    "df1 = pd.read_excel(\"C:/Users/tommy/Desktop/python檔桌面/住宅捷運步行最短距離.xlsx\",sheetname =0)\n",
    "df2 = pd.read_excel(\"C:/Users/tommy/Desktop/python檔桌面/住宅捷運步行最短距離.xlsx\",sheetname =1)\n",
    "\n",
    "df_捷運距離編號合併 = pd.merge(df2,df1,on=\"編號\")\n",
    "\n",
    "df_捷運距離編號合併.to_excel(\"df_捷運距離編號合併_8778.xlsx\")"
   ]
  }
 ],
 "metadata": {
  "kernelspec": {
   "display_name": "Python 3",
   "language": "python",
   "name": "python3"
  },
  "language_info": {
   "codemirror_mode": {
    "name": "ipython",
    "version": 3
   },
   "file_extension": ".py",
   "mimetype": "text/x-python",
   "name": "python",
   "nbconvert_exporter": "python",
   "pygments_lexer": "ipython3",
   "version": "3.6.4"
  }
 },
 "nbformat": 4,
 "nbformat_minor": 2
}
