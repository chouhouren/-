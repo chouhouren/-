{
 "cells": [
  {
   "cell_type": "code",
   "execution_count": 2,
   "metadata": {},
   "outputs": [
    {
     "data": {
      "text/plain": [
       "額滿國小全部\n",
       "仁愛國小       5\n",
       "信義國小       1\n",
       "健康國小       5\n",
       "力行國小       1\n",
       "南港國小       5\n",
       "南湖國小       2\n",
       "博嘉國小       1\n",
       "博愛國小       5\n",
       "和平實小       1\n",
       "國北教大附小     5\n",
       "國語實小       5\n",
       "士東國小       1\n",
       "市大附小       5\n",
       "幸安國小       4\n",
       "志清國小       2\n",
       "敦化國小       5\n",
       "文化國小       5\n",
       "新生國小       5\n",
       "明湖國小       4\n",
       "景美國小       3\n",
       "民生國小       2\n",
       "石牌國小       4\n",
       "義方國小       1\n",
       "蓬萊國小       5\n",
       "金華國小       5\n",
       "麗湖國小       3\n",
       "dtype: int64"
      ]
     },
     "execution_count": 2,
     "metadata": {},
     "output_type": "execute_result"
    }
   ],
   "source": [
    "import numpy as np\n",
    "import pandas as pd\n",
    "\n",
    "df = pd.read_excel(\"/Users/chouhouren/Desktop/台北市額滿國中小.xlsx\",sheet_name='額滿國小欄')\n",
    "\n",
    "a=df.groupby(df.columns.tolist(),as_index=False).size()\n",
    "        \n",
    "             \n"
   ]
  },
  {
   "cell_type": "code",
   "execution_count": 1,
   "metadata": {},
   "outputs": [
    {
     "data": {
      "text/plain": [
       "0\n",
       "中山國中    4\n",
       "中崙高中    3\n",
       "中正國中    5\n",
       "南港高中    5\n",
       "大同高中    5\n",
       "大直高中    3\n",
       "師大附中    5\n",
       "成淵高中    5\n",
       "政大附中    5\n",
       "敦化國中    5\n",
       "明湖國中    5\n",
       "景美國中    1\n",
       "景興國中    1\n",
       "桃源國中    1\n",
       "百齡高中    1\n",
       "石牌國中    5\n",
       "興雅國中    5\n",
       "萬芳高中    1\n",
       "金華國中    5\n",
       "關渡國中    1\n",
       "陽明高中    5\n",
       "雙園國中    1\n",
       "麗山國中    5\n",
       "龍門國中    5\n",
       "dtype: int64"
      ]
     },
     "execution_count": 1,
     "metadata": {},
     "output_type": "execute_result"
    }
   ],
   "source": [
    "import numpy as np\n",
    "import pandas as pd\n",
    "\n",
    "df = pd.read_excel(\"/Users/chouhouren/Desktop/台北市額滿國中小.xlsx\",sheet_name='額滿國中')\n",
    "\n",
    "colum = [ df[i] for i in df.columns ]\n",
    "result = pd.concat(colum)\n",
    "\n",
    "a=pd.DataFrame(result)\n",
    "\n",
    "a=a.groupby(a.columns.tolist(),as_index=False).size()\n",
    "\n",
    "a\n",
    "\n",
    "    "
   ]
  }
 ],
 "metadata": {
  "kernelspec": {
   "display_name": "Python 3",
   "language": "python",
   "name": "python3"
  },
  "language_info": {
   "codemirror_mode": {
    "name": "ipython",
    "version": 3
   },
   "file_extension": ".py",
   "mimetype": "text/x-python",
   "name": "python",
   "nbconvert_exporter": "python",
   "pygments_lexer": "ipython3",
   "version": "3.6.4"
  }
 },
 "nbformat": 4,
 "nbformat_minor": 2
}
