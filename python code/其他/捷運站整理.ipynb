{
 "cells": [
  {
   "cell_type": "code",
   "execution_count": 9,
   "metadata": {
    "collapsed": true
   },
   "outputs": [],
   "source": [
    "import pandas as pd\n",
    "\n",
    "\n",
    "df_捷運站 = pd.read_excel(\"C:/Users/tommy/Desktop/1=0/python檔/捷運站數量.xlsx\")\n",
    "\n",
    "df_捷運站['name'] = df_捷運站['name'].str.replace('捷運', '')\n",
    "\n",
    "df_捷運站  = df_捷運站[~(df_捷運站[\"name\"].str.contains(\"YouBike\"))&~(df_捷運站[\"name\"].str.contains(\"出口\"))\n",
    "                                                                 &~(df_捷運站[\"name\"].str.contains(\"停車\"))]\n",
    "                                           \n",
    "                                           "
   ]
  },
  {
   "cell_type": "code",
   "execution_count": 10,
   "metadata": {
    "collapsed": true
   },
   "outputs": [],
   "source": [
    "df_捷運站 = df_捷運站.drop_duplicates(subset=['name'], keep=\"last\")"
   ]
  },
  {
   "cell_type": "code",
   "execution_count": 11,
   "metadata": {
    "collapsed": true
   },
   "outputs": [],
   "source": [
    "df_捷運站.to_excel(\"df_捷運站_整理.xlsx\")"
   ]
  }
 ],
 "metadata": {
  "kernelspec": {
   "display_name": "Python 3",
   "language": "python",
   "name": "python3"
  },
  "language_info": {
   "codemirror_mode": {
    "name": "ipython",
    "version": 3
   },
   "file_extension": ".py",
   "mimetype": "text/x-python",
   "name": "python",
   "nbconvert_exporter": "python",
   "pygments_lexer": "ipython3",
   "version": "3.6.1"
  }
 },
 "nbformat": 4,
 "nbformat_minor": 2
}
