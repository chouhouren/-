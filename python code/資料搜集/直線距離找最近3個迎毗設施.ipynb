{
 "cells": [
  {
   "cell_type": "code",
   "execution_count": 167,
   "metadata": {},
   "outputs": [],
   "source": [
    "from math import sin, cos, sqrt, atan2, radians\n",
    "import pandas as pd\n",
    "import numpy as np"
   ]
  },
  {
   "cell_type": "code",
   "execution_count": 168,
   "metadata": {},
   "outputs": [],
   "source": [
    "df_實價登錄座標 = pd.read_excel(\"/Users/chouhouren/Desktop/實價登錄清理.xlsx\")\n",
    "\n",
    "df_迎毗設施_捷運站出口 = pd.read_excel(\"/Users/chouhouren/Desktop/論文資料/外部特徵座標檔/迎毗設施座標.xlsx\",sheet_name=\"捷運出口\")\n",
    "\n",
    "df_迎毗設施_鄰里公園 = pd.read_excel(\"/Users/chouhouren/Desktop/論文資料/外部特徵座標檔/迎毗設施座標.xlsx\",sheet_name=\"鄰里公園(大於1公頃)\")\n",
    "\n",
    "df_迎毗設施_大公園 = pd.read_excel(\"/Users/chouhouren/Desktop/論文資料/外部特徵座標檔/迎毗設施座標.xlsx\",sheet_name=\"大型公園(大於10公頃)\")\n",
    "\n",
    "df_迎毗設施_百貨公司 = pd.read_excel(\"/Users/chouhouren/Desktop/論文資料/外部特徵座標檔/迎毗設施座標.xlsx\",sheet_name=\"百貨公司\")\n",
    "\n",
    "df_迎毗設施_體育館 = pd.read_excel(\"/Users/chouhouren/Desktop/論文資料/外部特徵座標檔/迎毗設施座標.xlsx\",sheet_name=\"台北市室內體育場館\")\n",
    "\n",
    "df_迎毗設施_明星國小 = pd.read_excel(\"/Users/chouhouren/Desktop/論文資料/外部特徵座標檔/迎毗設施座標.xlsx\",sheet_name=\"明星國小\")\n",
    "\n",
    "df_迎毗設施_明星國中 = pd.read_excel(\"/Users/chouhouren/Desktop/論文資料/外部特徵座標檔/迎毗設施座標.xlsx\",sheet_name=\"明星國中\")\n",
    "\n",
    "#df_迎毗設施_測試1 = pd.read_excel(\"/Users/chouhouren/Desktop/論文資料/外部特徵座標檔/迎毗設施座標.xlsx\",sheet_name=\"測試1\")\n",
    "\n",
    "#df_迎毗設施_測試2 = pd.read_excel(\"/Users/chouhouren/Desktop/論文資料/外部特徵座標檔/迎毗設施座標.xlsx\",sheet_name=\"測試2\")\n"
   ]
  },
  {
   "cell_type": "code",
   "execution_count": 169,
   "metadata": {},
   "outputs": [],
   "source": [
    "def distance_caculation(x1,y1,x2,y2):\n",
    "    R = 6373000.0\n",
    "\n",
    "    lat1 = radians(x1)\n",
    "    lng1 = radians(y1)\n",
    "    \n",
    "    lat2 = radians(x2)\n",
    "    lng2 = radians(y2)\n",
    "\n",
    "    dlng = lng2 - lng1\n",
    "    dlat = lat2 - lat1\n",
    "\n",
    "    a = sin(dlat / 2)**2 + cos(lat1) * cos(lat2) * sin(dlng / 2)**2\n",
    "    c = 2 * atan2(sqrt(a), sqrt(1 - a))\n",
    "    distance = R * c\n",
    "\n",
    "    return distance "
   ]
  },
  {
   "cell_type": "markdown",
   "metadata": {},
   "source": [
    "#### 1.實價登錄座標"
   ]
  },
  {
   "cell_type": "code",
   "execution_count": 170,
   "metadata": {},
   "outputs": [],
   "source": [
    "x_1 = df_實價登錄座標[\"lat\"]\n",
    "y_1 = df_實價登錄座標[\"lng\"]"
   ]
  },
  {
   "cell_type": "markdown",
   "metadata": {},
   "source": [
    "#### 1.捷運出口"
   ]
  },
  {
   "cell_type": "code",
   "execution_count": 171,
   "metadata": {},
   "outputs": [],
   "source": [
    "x_2 = df_迎毗設施_捷運站出口[\"lat\"]\n",
    "y_2 = df_迎毗設施_捷運站出口[\"lng\"]\n",
    "dflist_distance = []\n",
    "for a1,n1 in zip(x_1,y_1):\n",
    "    for a2,n2 in zip(x_2,y_2):       \n",
    "\n",
    "        result = distance_caculation(a1,n1,a2,n2) \n",
    "        dflist_distance.append(result)\n",
    "        \n",
    "df = pd.DataFrame(dflist_distance)\n",
    "\n",
    "\n",
    "df_重組 = df.values.reshape((13626, 363))\n",
    "\n",
    "df_重組_pd = pd.DataFrame(df_重組,columns=[df_迎毗設施_捷運站出口[\"座標\"].T])\n",
    "\n",
    "x = df_重組_pd.T\n",
    "\n",
    "rslt_捷運出口 = pd.DataFrame(np.zeros((0,3)), columns=['top1','top2','top3'])\n",
    "for i in x.columns:\n",
    "    df1row = pd.DataFrame(x.nsmallest(3, i).index.tolist(), index=['top1','top2','top3']).T\n",
    "    rslt_捷運出口 = pd.concat([rslt_捷運出口, df1row], axis=0)\n",
    "\n"
   ]
  },
  {
   "cell_type": "markdown",
   "metadata": {},
   "source": [
    "#### 2.鄰里公園"
   ]
  },
  {
   "cell_type": "code",
   "execution_count": 172,
   "metadata": {},
   "outputs": [],
   "source": [
    "x_2 = df_迎毗設施_鄰里公園[\"lat\"]\n",
    "y_2 = df_迎毗設施_鄰里公園[\"lng\"]\n",
    "dflist_distance = []\n",
    "for a1,n1 in zip(x_1,y_1):\n",
    "    for a2,n2 in zip(x_2,y_2):       \n",
    "\n",
    "        result = distance_caculation(a1,n1,a2,n2) \n",
    "        dflist_distance.append(result)\n",
    "        \n",
    "df = pd.DataFrame(dflist_distance)\n",
    "\n",
    "\n",
    "df_重組 = df.values.reshape((13626, 128))\n",
    "\n",
    "df_重組_pd = pd.DataFrame(df_重組,columns=[df_迎毗設施_鄰里公園[\"座標\"].T])\n",
    "\n",
    "x = df_重組_pd.T\n",
    "\n",
    "rslt_鄰里公園 = pd.DataFrame(np.zeros((0,3)), columns=['top1','top2','top3'])\n",
    "for i in x.columns:\n",
    "    df1row = pd.DataFrame(x.nsmallest(3, i).index.tolist(), index=['top1','top2','top3']).T\n",
    "    rslt_鄰里公園 = pd.concat([rslt_鄰里公園, df1row], axis=0)\n",
    "\n"
   ]
  },
  {
   "cell_type": "markdown",
   "metadata": {},
   "source": [
    "#### 3.大公園"
   ]
  },
  {
   "cell_type": "code",
   "execution_count": 173,
   "metadata": {},
   "outputs": [],
   "source": [
    "x_2 = df_迎毗設施_大公園[\"lat\"]\n",
    "y_2 = df_迎毗設施_大公園[\"lng\"]\n",
    "dflist_distance = []\n",
    "for a1,n1 in zip(x_1,y_1):\n",
    "    for a2,n2 in zip(x_2,y_2):       \n",
    "\n",
    "        result = distance_caculation(a1,n1,a2,n2) \n",
    "        dflist_distance.append(result)\n",
    "        \n",
    "df = pd.DataFrame(dflist_distance)\n",
    "\n",
    "\n",
    "df_重組 = df.values.reshape((13626, 12))\n",
    "\n",
    "df_重組_pd = pd.DataFrame(df_重組,columns=[df_迎毗設施_大公園[\"座標\"].T])\n",
    "\n",
    "x = df_重組_pd.T\n",
    "\n",
    "rslt_大公園 = pd.DataFrame(np.zeros((0,3)), columns=['top1','top2','top3'])\n",
    "for i in x.columns:\n",
    "    df1row = pd.DataFrame(x.nsmallest(3, i).index.tolist(), index=['top1','top2','top3']).T\n",
    "    rslt_大公園 = pd.concat([rslt_大公園, df1row], axis=0)\n",
    "\n"
   ]
  },
  {
   "cell_type": "markdown",
   "metadata": {},
   "source": [
    "#### 4.百貨公司"
   ]
  },
  {
   "cell_type": "code",
   "execution_count": 174,
   "metadata": {},
   "outputs": [],
   "source": [
    "x_2 = df_迎毗設施_百貨公司[\"lat\"]\n",
    "y_2 = df_迎毗設施_百貨公司[\"lng\"]\n",
    "dflist_distance = []\n",
    "for a1,n1 in zip(x_1,y_1):\n",
    "    for a2,n2 in zip(x_2,y_2):       \n",
    "\n",
    "        result = distance_caculation(a1,n1,a2,n2) \n",
    "        dflist_distance.append(result)\n",
    "        \n",
    "df = pd.DataFrame(dflist_distance)\n",
    "\n",
    "\n",
    "df_重組 = df.values.reshape((13626, 33))\n",
    "\n",
    "df_重組_pd = pd.DataFrame(df_重組,columns=[df_迎毗設施_百貨公司[\"座標\"].T])\n",
    "\n",
    "x = df_重組_pd.T\n",
    "\n",
    "rslt_百貨公司 = pd.DataFrame(np.zeros((0,3)), columns=['top1','top2','top3'])\n",
    "for i in x.columns:\n",
    "    df1row = pd.DataFrame(x.nsmallest(3, i).index.tolist(), index=['top1','top2','top3']).T\n",
    "    rslt_百貨公司 = pd.concat([rslt_百貨公司, df1row], axis=0)\n",
    "\n"
   ]
  },
  {
   "cell_type": "markdown",
   "metadata": {},
   "source": [
    "#### 5.體育館"
   ]
  },
  {
   "cell_type": "code",
   "execution_count": 175,
   "metadata": {},
   "outputs": [],
   "source": [
    "x_2 = df_迎毗設施_體育館[\"lat\"]\n",
    "y_2 = df_迎毗設施_體育館[\"lng\"]\n",
    "dflist_distance = []\n",
    "for a1,n1 in zip(x_1,y_1):\n",
    "    for a2,n2 in zip(x_2,y_2):       \n",
    "\n",
    "        result = distance_caculation(a1,n1,a2,n2) \n",
    "        dflist_distance.append(result)\n",
    "        \n",
    "df = pd.DataFrame(dflist_distance)\n",
    "\n",
    "\n",
    "df_重組 = df.values.reshape((13626, 13))\n",
    "\n",
    "df_重組_pd = pd.DataFrame(df_重組,columns=[df_迎毗設施_體育館[\"座標\"].T])\n",
    "\n",
    "x = df_重組_pd.T\n",
    "\n",
    "rslt_體育館 = pd.DataFrame(np.zeros((0,3)), columns=['top1','top2','top3'])\n",
    "for i in x.columns:\n",
    "    df1row = pd.DataFrame(x.nsmallest(3, i).index.tolist(), index=['top1','top2','top3']).T\n",
    "    rslt_體育館 = pd.concat([rslt_體育館, df1row], axis=0)\n",
    "\n"
   ]
  },
  {
   "cell_type": "markdown",
   "metadata": {},
   "source": [
    "#### 6.明星國小"
   ]
  },
  {
   "cell_type": "code",
   "execution_count": 176,
   "metadata": {},
   "outputs": [],
   "source": [
    "x_2 = df_迎毗設施_明星國小[\"lat\"]\n",
    "y_2 = df_迎毗設施_明星國小[\"lng\"]\n",
    "dflist_distance = []\n",
    "for a1,n1 in zip(x_1,y_1):\n",
    "    for a2,n2 in zip(x_2,y_2):       \n",
    "\n",
    "        result = distance_caculation(a1,n1,a2,n2) \n",
    "        dflist_distance.append(result)\n",
    "        \n",
    "df = pd.DataFrame(dflist_distance)\n",
    "\n",
    "\n",
    "df_重組 = df.values.reshape((13626, 12))\n",
    "\n",
    "df_重組_pd = pd.DataFrame(df_重組,columns=[df_迎毗設施_明星國小[\"座標\"].T])\n",
    "\n",
    "x = df_重組_pd.T\n",
    "\n",
    "rslt_明星國小 = pd.DataFrame(np.zeros((0,3)), columns=['top1','top2','top3'])\n",
    "for i in x.columns:\n",
    "    df1row = pd.DataFrame(x.nsmallest(3, i).index.tolist(), index=['top1','top2','top3']).T\n",
    "    rslt_明星國小 = pd.concat([rslt_明星國小, df1row], axis=0)\n",
    "\n"
   ]
  },
  {
   "cell_type": "markdown",
   "metadata": {},
   "source": [
    "#### 7.明星國中"
   ]
  },
  {
   "cell_type": "code",
   "execution_count": 177,
   "metadata": {},
   "outputs": [],
   "source": [
    "x_2 = df_迎毗設施_明星國中[\"lat\"]\n",
    "y_2 = df_迎毗設施_明星國中[\"lng\"]\n",
    "dflist_distance = []\n",
    "for a1,n1 in zip(x_1,y_1):\n",
    "    for a2,n2 in zip(x_2,y_2):       \n",
    "\n",
    "        result = distance_caculation(a1,n1,a2,n2) \n",
    "        dflist_distance.append(result)\n",
    "        \n",
    "df = pd.DataFrame(dflist_distance)\n",
    "\n",
    "\n",
    "df_重組 = df.values.reshape((13626, 14))\n",
    "\n",
    "df_重組_pd = pd.DataFrame(df_重組,columns=[df_迎毗設施_明星國中[\"座標\"].T])\n",
    "\n",
    "x = df_重組_pd.T\n",
    "\n",
    "rslt_明星國中 = pd.DataFrame(np.zeros((0,3)), columns=['top1','top2','top3'])\n",
    "for i in x.columns:\n",
    "    df1row = pd.DataFrame(x.nsmallest(3, i).index.tolist(), index=['top1','top2','top3']).T\n",
    "    rslt_明星國中 = pd.concat([rslt_明星國中, df1row], axis=0)\n",
    "\n"
   ]
  },
  {
   "cell_type": "code",
   "execution_count": 178,
   "metadata": {},
   "outputs": [],
   "source": [
    "writer = pd.ExcelWriter('迎毗設施最近3個座標.xlsx')\n",
    "rslt_捷運出口.to_excel(writer,'捷運出口')\n",
    "rslt_鄰里公園.to_excel(writer,'鄰里公園')\n",
    "rslt_大公園.to_excel(writer,'大公園')\n",
    "rslt_百貨公司.to_excel(writer,'百貨公司')\n",
    "rslt_體育館.to_excel(writer,'體育館')\n",
    "rslt_明星國小.to_excel(writer,'明星國小')\n",
    "rslt_明星國中.to_excel(writer,'明星國中')\n",
    "writer.save()"
   ]
  }
 ],
 "metadata": {
  "kernelspec": {
   "display_name": "Python 3",
   "language": "python",
   "name": "python3"
  },
  "language_info": {
   "codemirror_mode": {
    "name": "ipython",
    "version": 3
   },
   "file_extension": ".py",
   "mimetype": "text/x-python",
   "name": "python",
   "nbconvert_exporter": "python",
   "pygments_lexer": "ipython3",
   "version": "3.6.4"
  }
 },
 "nbformat": 4,
 "nbformat_minor": 2
}
