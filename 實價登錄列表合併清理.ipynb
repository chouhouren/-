{
 "cells": [
  {
   "cell_type": "code",
   "execution_count": 1,
   "metadata": {},
   "outputs": [],
   "source": [
    "import pandas as pd\n",
    "import sys\n",
    "import numpy as np\n",
    "import re"
   ]
  },
  {
   "cell_type": "markdown",
   "metadata": {},
   "source": [
    "### 讀取實價登錄原始檔"
   ]
  },
  {
   "cell_type": "code",
   "execution_count": 2,
   "metadata": {
    "scrolled": false
   },
   "outputs": [],
   "source": [
    "df = pd.read_excel(\"/Users/chouhouren/Desktop/論文資料_新/python code/實價登錄整理/實價登錄列表合併.xlsx\")"
   ]
  },
  {
   "cell_type": "markdown",
   "metadata": {},
   "source": [
    "### 取出本研究所需之資料欄位"
   ]
  },
  {
   "cell_type": "code",
   "execution_count": 3,
   "metadata": {},
   "outputs": [],
   "source": [
    "df = df[['編號', '屋齡', '主要用途_x', '主要建材_x',\n",
    "         '鄉鎮市區', '交易標的',\n",
    "         '交易年月日', '交易筆棟數', '移轉層次', '總樓層數', '建物型態',\n",
    "         '建物移轉總面積(平方公尺)', '建物現況格局-房', '建物現況格局-廳','建物現況格局-衛',\n",
    "         '總價(元)', '單價(元/平方公尺)', \n",
    "         '車位類別','車位移轉總面積(平方公尺)', '車位總價(元)',\n",
    "         '有無備註欄(Y/N)', '備註','交易標的橫坐標', '交易標的縱坐標']]"
   ]
  },
  {
   "cell_type": "markdown",
   "metadata": {},
   "source": [
    "### 1.交易標的篩選  (將僅有土地車位建物欄位剃除)"
   ]
  },
  {
   "cell_type": "code",
   "execution_count": 4,
   "metadata": {},
   "outputs": [],
   "source": [
    "df = df[(df['交易標的'] ==\"房地(土地+建物)\") | (df['交易標的'] ==\"房地(土地+建物)+車位\")] "
   ]
  },
  {
   "cell_type": "markdown",
   "metadata": {},
   "source": [
    "### 2.交易年月日   (將小於102年1月1日的資料剔除)"
   ]
  },
  {
   "cell_type": "code",
   "execution_count": 5,
   "metadata": {},
   "outputs": [],
   "source": [
    "df['交易年月日'] = df['交易年月日'].astype('str').astype(int)\n",
    "\n",
    "df = df[df['交易年月日'] >= 1020101]"
   ]
  },
  {
   "cell_type": "markdown",
   "metadata": {},
   "source": [
    "### 3.建物型態篩選  (將非公寓、華廈、住宅大樓之欄位剔除)"
   ]
  },
  {
   "cell_type": "code",
   "execution_count": 6,
   "metadata": {},
   "outputs": [],
   "source": [
    "df = df[(df['建物型態']  ==\"公寓(5樓含以下無電梯)\")|(df['建物型態']  ==\"住宅大樓(11層含以上有電梯)\")|(df['建物型態']  ==\"華廈(10層含以下有電梯)\")]  "
   ]
  },
  {
   "cell_type": "markdown",
   "metadata": {},
   "source": [
    "### 4.面積篩選  (將建物移轉面積小於3坪(9.9174平方公尺)剔除)"
   ]
  },
  {
   "cell_type": "code",
   "execution_count": 7,
   "metadata": {},
   "outputs": [],
   "source": [
    "df = df[~(df['建物移轉總面積(平方公尺)']<9.9174)]     "
   ]
  },
  {
   "cell_type": "markdown",
   "metadata": {},
   "source": [
    "### 5.屋齡篩選  (將屋齡小於1及空白剔除)"
   ]
  },
  {
   "cell_type": "code",
   "execution_count": 8,
   "metadata": {},
   "outputs": [],
   "source": [
    "df = df[ (df['屋齡'] >1) & (df['屋齡'] != pd.isnull) ]"
   ]
  },
  {
   "cell_type": "markdown",
   "metadata": {},
   "source": [
    "### 6.移轉層次篩選  (剃除2樓以下及非單一樓層交易)"
   ]
  },
  {
   "cell_type": "code",
   "execution_count": 9,
   "metadata": {},
   "outputs": [],
   "source": [
    "df['移轉層次'] = df['移轉層次'].astype(str)\n",
    "df['移轉層次'] =  df['移轉層次'].str.replace('\\夾層', '夾')#"
   ]
  },
  {
   "cell_type": "code",
   "execution_count": 10,
   "metadata": {},
   "outputs": [
    {
     "name": "stdout",
     "output_type": "stream",
     "text": [
      "<class 'pandas.core.frame.DataFrame'>\n",
      "Int64Index: 86776 entries, 3 to 209400\n",
      "Data columns (total 24 columns):\n",
      "編號               86776 non-null object\n",
      "屋齡               86776 non-null float64\n",
      "主要用途_x           86392 non-null object\n",
      "主要建材_x           86765 non-null object\n",
      "鄉鎮市區             86776 non-null object\n",
      "交易標的             86776 non-null object\n",
      "交易年月日            86776 non-null int64\n",
      "交易筆棟數            86776 non-null object\n",
      "移轉層次             86776 non-null object\n",
      "總樓層數             86768 non-null object\n",
      "建物型態             86776 non-null object\n",
      "建物移轉總面積(平方公尺)    86776 non-null float64\n",
      "建物現況格局-房         86776 non-null int64\n",
      "建物現況格局-廳         86776 non-null int64\n",
      "建物現況格局-衛         86776 non-null int64\n",
      "總價(元)            86776 non-null int64\n",
      "單價(元/平方公尺)       86776 non-null float64\n",
      "車位類別             42983 non-null object\n",
      "車位移轉總面積(平方公尺)    86776 non-null float64\n",
      "車位總價(元)          86776 non-null int64\n",
      "有無備註欄(Y/N)       86776 non-null object\n",
      "備註               34513 non-null object\n",
      "交易標的橫坐標          86776 non-null int64\n",
      "交易標的縱坐標          86776 non-null int64\n",
      "dtypes: float64(4), int64(8), object(12)\n",
      "memory usage: 16.6+ MB\n"
     ]
    }
   ],
   "source": [
    "df  = df[~(df[\"移轉層次\"].str.contains(\"一層\"))\n",
    "        &~(df[\"移轉層次\"].str.contains(\"地下\"))\n",
    "        &~(df[\"移轉層次\"].str.count(\"層\") >=2)\n",
    "        &~(df[\"移轉層次\"]  == \"nan\")\n",
    "        ] \n",
    "df.info()"
   ]
  },
  {
   "cell_type": "markdown",
   "metadata": {},
   "source": [
    "### 7.房間數篩選  (將房間數大於6間的資料剔除)"
   ]
  },
  {
   "cell_type": "code",
   "execution_count": 11,
   "metadata": {},
   "outputs": [],
   "source": [
    "df = df[~(df['建物現況格局-房']>6)] "
   ]
  },
  {
   "cell_type": "markdown",
   "metadata": {},
   "source": [
    "### 8.主要用途篩選  (將非住商及住家用途之欄位剔除)"
   ]
  },
  {
   "cell_type": "code",
   "execution_count": 12,
   "metadata": {},
   "outputs": [],
   "source": [
    "df = df[(df['主要用途_x']  == \"住家用\") |(df['主要用途_x']  == \"住商用\")]   "
   ]
  },
  {
   "cell_type": "markdown",
   "metadata": {},
   "source": [
    "### 9.車位資料篩選(將交易標的中有車位但沒有車位面積之欄位剔除)"
   ]
  },
  {
   "cell_type": "code",
   "execution_count": 13,
   "metadata": {},
   "outputs": [],
   "source": [
    "df = df[(df['車位移轉總面積(平方公尺)']>0)|(df['交易標的'] ==\"房地(土地+建物)\")]          "
   ]
  },
  {
   "cell_type": "markdown",
   "metadata": {},
   "source": [
    "#### 總價重新計算(總價元扣除車位總價)"
   ]
  },
  {
   "cell_type": "code",
   "execution_count": 14,
   "metadata": {},
   "outputs": [],
   "source": [
    "#df[\"新總價\"]=[]\n",
    "\n",
    "for row in df[\"車位總價(元)\"]:\n",
    "    if row>0:\n",
    "        df[\"新總價\"] = df[\"總價(元)\"]-df[\"車位總價(元)\"]"
   ]
  },
  {
   "cell_type": "markdown",
   "metadata": {},
   "source": [
    "#### 建物移轉總面記重新計算(建物總移轉面積扣除車位總面積)"
   ]
  },
  {
   "cell_type": "code",
   "execution_count": 15,
   "metadata": {},
   "outputs": [],
   "source": [
    "#df[\"新面積\"]=[]\n",
    "\n",
    "for row in df[\"車位總價(元)\"]:\n",
    "    if row>0:\n",
    "        df[\"新面積\"] = df['建物移轉總面積(平方公尺)']-df['車位移轉總面積(平方公尺)']"
   ]
  },
  {
   "cell_type": "markdown",
   "metadata": {},
   "source": [
    "### 10.特殊交易篩選(將備註欄有文字之資料剃除)"
   ]
  },
  {
   "cell_type": "code",
   "execution_count": 16,
   "metadata": {},
   "outputs": [],
   "source": [
    "df['備註'] = df['備註'].fillna(0)\n",
    "\n",
    "df = df[(df['備註'] == 0)] "
   ]
  },
  {
   "cell_type": "markdown",
   "metadata": {},
   "source": [
    "#### RESET df INDEX"
   ]
  },
  {
   "cell_type": "code",
   "execution_count": 17,
   "metadata": {},
   "outputs": [],
   "source": [
    "df = df.reset_index(drop=True)"
   ]
  },
  {
   "cell_type": "markdown",
   "metadata": {},
   "source": [
    "## 資料處理與需擬變數轉換"
   ]
  },
  {
   "cell_type": "markdown",
   "metadata": {},
   "source": [
    "#### 總樓層數中文轉阿拉伯數字"
   ]
  },
  {
   "cell_type": "code",
   "execution_count": 18,
   "metadata": {},
   "outputs": [],
   "source": [
    "dic ={ '零' : 0 , '一' : 1 , '二' : 2 , '三' : 3 , '四' : 4 , '五' : 5 , '六' : 6 , '七' : 7 , '八' : 8 , '九' : 9 , '十' : 10 , '百' : 100 , '千' : 1000 ,'萬' : 10000,\n",
    "       '０' : 0 , '１' : 1 , '２' : 2 , '３' : 3 , '４' : 4 , '５' : 5 , '６' : 6 ,  '７' : 7 , '８' : 8 , '９' : 9 ,\n",
    "                '壹' : 1 , '貳' : 2 , '叁' : 3 , '肆' : 4 , '伍' : 5 , '陸' : 6 , '柒' : 7 ,  '捌' : 8 , '玖' : 9 , '拾' : 10 , '佰' : 100 , '仟' : 1000 , '萬' : 10000 ,\n",
    "       '億' : 100000000 }\n",
    "def  getResultForDigit (a, encoding= \"utf-8\" ) :\n",
    "\n",
    "    count = 0\n",
    "    result = 0\n",
    "    tmp = 0\n",
    "    Billion = 0\n",
    "    while count < len(a):\n",
    "        tmpChr = a[count]\n",
    "        #print tmpChr\n",
    "        tmpNum = dic.get(tmpChr, None )\n",
    "        #如果等於十或者百，千\n",
    "        if tmpNum >= 10 :\n",
    "            if tmp == 0 :\n",
    "                tmp = 1\n",
    "            result = result + tmpNum * tmp\n",
    "            tmp = 0\n",
    "        #如果是個位數\n",
    "        elif tmpNum is  not  None :\n",
    "            tmp = tmp * 10 + tmpNum\n",
    "        count += 1\n",
    "    result = result + tmp\n",
    "    result = result + Billion\n",
    "    return result"
   ]
  },
  {
   "cell_type": "code",
   "execution_count": 19,
   "metadata": {},
   "outputs": [],
   "source": [
    "df['總樓層數'] = df['總樓層數'].astype(str)\n",
    "df[\"總樓層數\"]=df['總樓層數'].str.replace('層','')\n",
    "df = df[(df['總樓層數']  != 'nan')]"
   ]
  },
  {
   "cell_type": "code",
   "execution_count": 20,
   "metadata": {},
   "outputs": [],
   "source": [
    "b=[]\n",
    "\n",
    "for row in df[\"總樓層數\"]:\n",
    "    c=getResultForDigit(row)\n",
    "    b.append(c)\n",
    "    \n",
    "df[\"總樓層數\"]=b\n",
    "df  = df[~(df[\"總樓層數\"]==0)]"
   ]
  },
  {
   "cell_type": "markdown",
   "metadata": {},
   "source": [
    "#### 移轉層次中文轉阿拉伯數字"
   ]
  },
  {
   "cell_type": "markdown",
   "metadata": {},
   "source": [
    "df[\"移轉層次\"] =  df['移轉層次'].str.replace('，','')#1\n",
    "df[\"移轉層次\"] =  df['移轉層次'].str.replace('層','')#2\n",
    "df[\"移轉層次\"] =  df['移轉層次'].str.replace('機械房','')#3\n",
    "df[\"移轉層次\"] =  df['移轉層次'].str.replace('夾','')#4\n",
    "df[\"移轉層次\"] =  df['移轉層次'].str.replace('見其他登記事項','')#5\n",
    "df[\"移轉層次\"] =  df['移轉層次'].str.replace('走廊','')#6\n",
    "df[\"移轉層次\"] =  df['移轉層次'].str.replace('陽台','')#7\n",
    "df[\"移轉層次\"] =  df['移轉層次'].str.replace('露台','')#8\n",
    "df[\"移轉層次\"] =  df['移轉層次'].str.replace('電梯樓梯間','')#9\n",
    "df[\"移轉層次\"] =  df['移轉層次'].str.replace('屋頂突出物','')#10\n",
    "df[\"移轉層次\"] =  df['移轉層次'].str.replace('騎樓','')#11\n",
    "df[\"移轉層次\"] =  df['移轉層次'].str.replace('平台','')#12\n",
    "df['移轉層次'] =  df['移轉層次'].str.replace('通道', '')#13\n",
    "df['移轉層次'] =  df['移轉層次'].str.replace('見使用執照', '')#14\n",
    "df['移轉層次'] =  df['移轉層次'].str.replace('門廳', '')#15\n",
    "df['移轉層次'] =  df['移轉層次'].str.replace('防空避難室', '')#16\n",
    "df['移轉層次'] =  df['移轉層次'].str.replace('防空避難室見使用執照', '')#17\n",
    "df['移轉層次'] =  df['移轉層次'].str.replace('防空避難室停車場見使用執照', '')#18\n",
    "df['移轉層次'] =  df['移轉層次'].str.replace('停車場', '')#19\n",
    "df = df[(df['移轉層次']  != pd.isnull)]\n",
    "\n",
    "\n",
    "\n"
   ]
  },
  {
   "cell_type": "code",
   "execution_count": 21,
   "metadata": {},
   "outputs": [
    {
     "data": {
      "text/plain": [
       "19"
      ]
     },
     "execution_count": 21,
     "metadata": {},
     "output_type": "execute_result"
    }
   ],
   "source": [
    "unwanted_part = ['，', '層', '機械房', '夾', '見其他登記事項','走廊','陽台','露台','電梯樓梯間',\n",
    "                 '屋頂突出物','騎樓','平台','通道','見使用執照','門廳','防空避難室','防空避難室見使用執照',\n",
    "                 '防空避難室停車場見使用執照','停車場']\n",
    "\n",
    "pat = '|'.join(['({})'.format(re.escape(c)) for c in unwanted_part])\n",
    "\n",
    "df['移轉層次'] =  df['移轉層次'].str.replace(pat, '')\n",
    "df = df[(df['移轉層次'] != pd.isnull)]\n",
    "len(unwanted_part)"
   ]
  },
  {
   "cell_type": "code",
   "execution_count": 22,
   "metadata": {},
   "outputs": [],
   "source": [
    "b=[]\n",
    "\n",
    "for row in df[\"移轉層次\"]:\n",
    "    c=getResultForDigit(row)\n",
    "    b.append(c)\n",
    "    \n",
    "df[\"移轉層次\"]=b\n",
    "df  = df[~(df[\"移轉層次\"]==0)]"
   ]
  },
  {
   "cell_type": "markdown",
   "metadata": {},
   "source": [
    "#### 建物類型轉虛擬變數"
   ]
  },
  {
   "cell_type": "code",
   "execution_count": 23,
   "metadata": {},
   "outputs": [],
   "source": [
    "dummy_建物類型 = pd.get_dummies(pd.Series(list(df['建物型態'])))"
   ]
  },
  {
   "cell_type": "markdown",
   "metadata": {},
   "source": [
    "#### 建物材料轉虛擬變數"
   ]
  },
  {
   "cell_type": "code",
   "execution_count": 24,
   "metadata": {},
   "outputs": [],
   "source": [
    "建築材料 = [\n",
    "              (df['主要建材_x'] == \"加強磚造\"),\n",
    "              (df['主要建材_x'] == \"磚造\"),\n",
    "              (df['主要建材_x'] == \"見使用執照\"),\n",
    "              (df['主要建材_x'] ==\"見其他登記事項\"),\n",
    "              (df['主要建材_x'] ==\"壁式預鑄鋼筋混凝土造\"),\n",
    "              (df['主要建材_x'] ==\"鋼筋混凝土造\"),\n",
    "              (df['主要建材_x'] ==\"鋼骨混凝土造\"),\n",
    "              (df['主要建材_x'] ==\"鋼骨鋼筋混凝土造\")\n",
    "                                                 ]\n",
    "          \n",
    "              \n",
    "choices = ['RB',\"RB\",\"RC\",\"RC\",\"RC\",\"RC\",\"SRC/SC\",\"SRC/SC\"]\n",
    "df['建築材料歸類'] = np.select(建築材料, choices, default=0)"
   ]
  },
  {
   "cell_type": "code",
   "execution_count": 25,
   "metadata": {},
   "outputs": [],
   "source": [
    "dummy_建物結構 = pd.get_dummies(pd.Series(list(df['建築材料歸類'])))"
   ]
  },
  {
   "cell_type": "markdown",
   "metadata": {},
   "source": [
    "#### 車位數與類型整理"
   ]
  },
  {
   "cell_type": "code",
   "execution_count": 26,
   "metadata": {},
   "outputs": [],
   "source": [
    "df['交易車位數'] = df['交易筆棟數'].apply(lambda x: x.split('車位')[-1])"
   ]
  },
  {
   "cell_type": "code",
   "execution_count": 27,
   "metadata": {},
   "outputs": [],
   "source": [
    "#車位數\n",
    "交易車位數 = [\n",
    "              (df['車位總價(元)']  >0),\n",
    "              (df['車位總價(元)'] == 0) ]\n",
    "              \n",
    "                            \n",
    "choices = [0,df['交易車位數']]\n",
    "df['新交易車位數'] = np.select(交易車位數, choices, default=0)"
   ]
  },
  {
   "cell_type": "code",
   "execution_count": 28,
   "metadata": {},
   "outputs": [],
   "source": [
    "#車位類別轉換\n",
    "車位類別 = [\n",
    "              (df['車位總價(元)']  >0),\n",
    "              (df['車位總價(元)'] == 0)]\n",
    "              \n",
    "                                                                                 \n",
    "choices = [\"無車位\",df['車位類別']]\n",
    "df['車位類別扣除車位總價'] = np.select(車位類別, choices)\n",
    "df['車位類別扣除車位總價']=df['車位類別扣除車位總價'].fillna('無車位')"
   ]
  },
  {
   "cell_type": "code",
   "execution_count": 29,
   "metadata": {},
   "outputs": [],
   "source": [
    "車位類別 = [\n",
    "              (df['車位類別扣除車位總價'] == \"一樓平面\"),\n",
    "              (df['車位類別扣除車位總價'] == \"升降平面\"),\n",
    "              (df['車位類別扣除車位總價'] == \"升降機械\"),\n",
    "              (df['車位類別扣除車位總價'] ==\"其他\"),\n",
    "              (df['車位類別扣除車位總價'] ==\"坡道平面\"),\n",
    "              (df['車位類別扣除車位總價'] ==\"坡道機械\"),\n",
    "              (df['車位類別扣除車位總價'] ==\"塔式車位\")\n",
    "                                                    ]\n",
    "                            \n",
    "choices = ['平面車位',\"平面車位\",\"機械車位\",\"其他\",\"平面車位\",\"機械車位\",\"機械車位\"]\n",
    "df['新車位類別'] = np.select(車位類別, choices, default=\"無車位\")"
   ]
  },
  {
   "cell_type": "code",
   "execution_count": 30,
   "metadata": {},
   "outputs": [],
   "source": [
    "dummy_車位類型 = pd.get_dummies(pd.Series(list(df['新車位類別'])))"
   ]
  },
  {
   "cell_type": "markdown",
   "metadata": {},
   "source": [
    "#### 行政區轉虛擬變數"
   ]
  },
  {
   "cell_type": "code",
   "execution_count": 31,
   "metadata": {},
   "outputs": [],
   "source": [
    "dummy_鄉鎮市區 = pd.get_dummies(pd.Series(list(df['鄉鎮市區'])))"
   ]
  },
  {
   "cell_type": "markdown",
   "metadata": {},
   "source": [
    "#### 交易年度轉虛擬變數"
   ]
  },
  {
   "cell_type": "code",
   "execution_count": 32,
   "metadata": {},
   "outputs": [],
   "source": [
    "交易日期 = [\n",
    "              (df['交易年月日'] >1060630),\n",
    "              (df['交易年月日'] >1060101),\n",
    "              (df['交易年月日'] >1050630),\n",
    "              (df['交易年月日'] >1050101),\n",
    "              (df['交易年月日'] >1040630),\n",
    "              (df['交易年月日'] >1040101),\n",
    "              (df['交易年月日'] >1030630),\n",
    "              (df['交易年月日'] >1030101),\n",
    "              (df['交易年月日'] >1020630),\n",
    "              (df['交易年月日'] >1020101),\n",
    "                                                 ]\n",
    "          \n",
    "              \n",
    "choices = ['106下',\"106上\",\"105下\",\"105上\",\"104下\",\"104上\",\"103下\",\"103上\",\"102下\",\"102上\"]\n",
    "df['交易日期'] = np.select(交易日期, choices, default=\"102上\")"
   ]
  },
  {
   "cell_type": "code",
   "execution_count": 33,
   "metadata": {},
   "outputs": [],
   "source": [
    "dummy_交易日期 = pd.get_dummies(pd.Series(list(df['交易日期'])))"
   ]
  },
  {
   "cell_type": "markdown",
   "metadata": {},
   "source": [
    "### 合併虛擬變數"
   ]
  },
  {
   "cell_type": "code",
   "execution_count": 34,
   "metadata": {},
   "outputs": [],
   "source": [
    "df = pd.concat([df,dummy_建物結構,dummy_車位類型,dummy_鄉鎮市區,dummy_交易日期,dummy_建物類型],axis=1)"
   ]
  },
  {
   "cell_type": "markdown",
   "metadata": {},
   "source": [
    "#### 將建物總面積轉成坪後平方取對數，新總價取對數"
   ]
  },
  {
   "cell_type": "code",
   "execution_count": null,
   "metadata": {},
   "outputs": [],
   "source": [
    "df['新總價'] = np.log(df['新總價'])\n",
    "df['新面積'] = np.log((df['新面積']*0.3025)**2)"
   ]
  },
  {
   "cell_type": "code",
   "execution_count": 35,
   "metadata": {
    "scrolled": true
   },
   "outputs": [
    {
     "data": {
      "text/plain": [
       "Index(['編號', '屋齡', '主要用途_x', '主要建材_x', '鄉鎮市區', '交易標的', '交易年月日', '交易筆棟數',\n",
       "       '移轉層次', '總樓層數', '建物型態', '建物移轉總面積(平方公尺)', '建物現況格局-房', '建物現況格局-廳',\n",
       "       '建物現況格局-衛', '總價(元)', '單價(元/平方公尺)', '車位類別', '車位移轉總面積(平方公尺)', '車位總價(元)',\n",
       "       '有無備註欄(Y/N)', '備註', '交易標的橫坐標', '交易標的縱坐標', '新總價', '新面積', '建築材料歸類',\n",
       "       '交易車位數', '新交易車位數', '車位類別扣除車位總價', '新車位類別', '交易日期', '0', 'RB', 'RC',\n",
       "       'SRC/SC', '其他', '平面車位', '機械車位', '無車位', '中山區', '中正區', '信義區', '內湖區',\n",
       "       '北投區', '南港區', '士林區', '大同區', '大安區', '文山區', '松山區', '萬華區', '102上', '102下',\n",
       "       '103上', '103下', '104上', '104下', '105上', '105下', '106上', '106下',\n",
       "       '住宅大樓(11層含以上有電梯)', '公寓(5樓含以下無電梯)', '華廈(10層含以下有電梯)'],\n",
       "      dtype='object')"
      ]
     },
     "execution_count": 35,
     "metadata": {},
     "output_type": "execute_result"
    }
   ],
   "source": [
    "df.columns"
   ]
  },
  {
   "cell_type": "markdown",
   "metadata": {},
   "source": [
    "#### 取出實價登錄變數"
   ]
  },
  {
   "cell_type": "code",
   "execution_count": 36,
   "metadata": {},
   "outputs": [],
   "source": [
    "df=df[['編號','新總價','新面積',\n",
    "       '屋齡','移轉層次','總樓層數',\n",
    "       '建物現況格局-房', '建物現況格局-廳','建物現況格局-衛',\n",
    "       '102上', '102下','103上', '103下', '104上', '104下', '105上', '105下', '106上', '106下', \n",
    "       '公寓(5樓含以下無電梯)','華廈(10層含以下有電梯)', '住宅大樓(11層含以上有電梯)', \n",
    "       'RB', 'RC', 'SRC/SC', \n",
    "       '新交易車位數', '平面車位', '機械車位','其他', \n",
    "       '士林區', '大同區','大安區', '中山區', '中正區', '內湖區', '文山區', '北投區', '松山區', '南港區', '萬華區', '信義區',\n",
    "       '有無備註欄(Y/N)','交易標的橫坐標', '交易標的縱坐標'\n",
    "\n",
    "       \n",
    "       ]]"
   ]
  },
  {
   "cell_type": "code",
   "execution_count": 37,
   "metadata": {},
   "outputs": [],
   "source": [
    "df = df.drop_duplicates(subset=[\"編號\"], keep=\"first\")"
   ]
  },
  {
   "cell_type": "code",
   "execution_count": 38,
   "metadata": {},
   "outputs": [],
   "source": [
    "df = df.dropna()"
   ]
  },
  {
   "cell_type": "code",
   "execution_count": 39,
   "metadata": {},
   "outputs": [],
   "source": [
    "df.to_excel(\"實價登錄清理沒有處理總價.xlsx\")"
   ]
  }
 ],
 "metadata": {
  "kernelspec": {
   "display_name": "Python 3",
   "language": "python",
   "name": "python3"
  },
  "language_info": {
   "codemirror_mode": {
    "name": "ipython",
    "version": 3
   },
   "file_extension": ".py",
   "mimetype": "text/x-python",
   "name": "python",
   "nbconvert_exporter": "python",
   "pygments_lexer": "ipython3",
   "version": "3.6.4"
  }
 },
 "nbformat": 4,
 "nbformat_minor": 2
}
